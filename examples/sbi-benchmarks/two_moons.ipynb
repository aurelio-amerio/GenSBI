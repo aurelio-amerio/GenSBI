{
 "cells": [
  {
   "cell_type": "code",
   "execution_count": 1,
   "metadata": {},
   "outputs": [],
   "source": [
    "# load autoreload extension\n",
    "%load_ext autoreload\n",
    "%autoreload 2"
   ]
  },
  {
   "cell_type": "code",
   "execution_count": 2,
   "metadata": {},
   "outputs": [],
   "source": [
    "import os\n",
    "# os.environ['JAX_PLATFORMS']=\"cpu\"\n",
    "os.environ['JAX_PLATFORMS']=\"cuda\""
   ]
  },
  {
   "cell_type": "code",
   "execution_count": 3,
   "metadata": {},
   "outputs": [
    {
     "name": "stderr",
     "output_type": "stream",
     "text": [
      "/lhome/ific/a/aamerio/miniforge3/envs/cfm/lib/python3.12/site-packages/tqdm/auto.py:21: TqdmWarning: IProgress not found. Please update jupyter and ipywidgets. See https://ipywidgets.readthedocs.io/en/stable/user_install.html\n",
      "  from .autonotebook import tqdm as notebook_tqdm\n"
     ]
    }
   ],
   "source": [
    "import matplotlib.pyplot as plt\n",
    "import jax\n",
    "import jax.numpy as jnp\n",
    "import optax\n",
    "\n",
    "import numpy as np\n",
    "\n",
    "from tqdm.auto import tqdm\n",
    "\n",
    "from functools import partial\n",
    "\n",
    "from flax import nnx"
   ]
  },
  {
   "cell_type": "code",
   "execution_count": 4,
   "metadata": {},
   "outputs": [],
   "source": [
    "import sys \n",
    "sys.path.append(\"examples/sbi-benchmarks\")\n",
    "sys.path.append(\"/lhome/ific/a/aamerio/github/cfm-jax/src\")"
   ]
  },
  {
   "cell_type": "code",
   "execution_count": 5,
   "metadata": {},
   "outputs": [],
   "source": [
    "import sbibm\n",
    "from utils.sbi_tasks import TwoMoons\n",
    "\n",
    "from flow_matching.path.scheduler import CondOTScheduler\n",
    "from flow_matching.path import AffineProbPath\n",
    "from flow_matching.solver import ODESolver\n",
    "from flow_matching.loss import ContinuousFMLoss"
   ]
  },
  {
   "cell_type": "code",
   "execution_count": 6,
   "metadata": {},
   "outputs": [],
   "source": [
    "twomoons = TwoMoons()\n",
    "task = twomoons.task\n",
    "prior = twomoons.get_prior()\n",
    "simulator = twomoons.get_simulator()\n",
    "observation = twomoons.get_observation(1)\n",
    "\n",
    "theta = prior.sample((10_000,))\n",
    "xs = simulator(theta)"
   ]
  },
  {
   "cell_type": "code",
   "execution_count": 7,
   "metadata": {},
   "outputs": [],
   "source": [
    "@partial(jax.jit, static_argnames=[\"size\"])\n",
    "def sample_prior(size):\n",
    "    return jnp.array(prior.sample((size,)))"
   ]
  },
  {
   "cell_type": "code",
   "execution_count": 8,
   "metadata": {},
   "outputs": [
    {
     "data": {
      "text/plain": [
       "tensor(0.3691)"
      ]
     },
     "execution_count": 8,
     "metadata": {},
     "output_type": "execute_result"
    }
   ],
   "source": [
    "xs[:,0].max()"
   ]
  },
  {
   "cell_type": "code",
   "execution_count": 9,
   "metadata": {},
   "outputs": [],
   "source": [
    "from numpyro import distributions as dist"
   ]
  },
  {
   "cell_type": "code",
   "execution_count": 10,
   "metadata": {},
   "outputs": [],
   "source": [
    "prior_bound = 1.0\n",
    "prior_params = {\n",
    "    \"low\": -prior_bound * jnp.ones((2,)),\n",
    "    \"high\": +prior_bound * jnp.ones((2,)),\n",
    "}\n",
    "prior_dist = dist.Uniform(**prior_params).to_event(1)"
   ]
  },
  {
   "cell_type": "code",
   "execution_count": 11,
   "metadata": {},
   "outputs": [
    {
     "data": {
      "image/png": "[encoded data removed]",
      "text/plain": [
       "<Figure size 640x480 with 1 Axes>"
      ]
     },
     "metadata": {},
     "output_type": "display_data"
    }
   ],
   "source": [
    "plt.hist2d(theta[:,0],theta[:,1], bins=50, density=True)\n",
    "plt.show()"
   ]
  },
  {
   "cell_type": "code",
   "execution_count": 12,
   "metadata": {},
   "outputs": [
    {
     "name": "stderr",
     "output_type": "stream",
     "text": [
      "Running REJ-ABC\n",
      "Running 100000 simulations.: 100%|██████████| 100000/100000 [00:00<00:00, 2705478.94it/s]\n",
      "/lhome/ific/a/aamerio/miniforge3/envs/cfm/lib/python3.12/site-packages/sklearn/model_selection/_validation.py:528: FitFailedWarning: \n",
      "100 fits failed out of a total of 200.\n",
      "The score on these train-test partitions for these parameters will be set to nan.\n",
      "If these failures are not expected, you can try to debug them by setting error_score='raise'.\n",
      "\n",
      "Below are more details about the failures:\n",
      "--------------------------------------------------------------------------------\n",
      "20 fits failed with the following error:\n",
      "Traceback (most recent call last):\n",
      "  File \"/lhome/ific/a/aamerio/miniforge3/envs/cfm/lib/python3.12/site-packages/sklearn/model_selection/_validation.py\", line 864, in _fit_and_score\n",
      "    estimator.fit(X_train, **fit_params)\n",
      "  File \"/lhome/ific/a/aamerio/miniforge3/envs/cfm/lib/python3.12/site-packages/sklearn/base.py\", line 1382, in wrapper\n",
      "    estimator._validate_params()\n",
      "  File \"/lhome/ific/a/aamerio/miniforge3/envs/cfm/lib/python3.12/site-packages/sklearn/base.py\", line 436, in _validate_params\n",
      "    validate_parameter_constraints(\n",
      "  File \"/lhome/ific/a/aamerio/miniforge3/envs/cfm/lib/python3.12/site-packages/sklearn/utils/_param_validation.py\", line 98, in validate_parameter_constraints\n",
      "    raise InvalidParameterError(\n",
      "sklearn.utils._param_validation.InvalidParameterError: The 'bandwidth' parameter of KernelDensity must be a float in the range (0.0, inf) or a str among {'silverman', 'scott'}. Got np.float64(-0.003068908014231257) instead.\n",
      "\n",
      "--------------------------------------------------------------------------------\n",
      "20 fits failed with the following error:\n",
      "Traceback (most recent call last):\n",
      "  File \"/lhome/ific/a/aamerio/miniforge3/envs/cfm/lib/python3.12/site-packages/sklearn/model_selection/_validation.py\", line 864, in _fit_and_score\n",
      "    estimator.fit(X_train, **fit_params)\n",
      "  File \"/lhome/ific/a/aamerio/miniforge3/envs/cfm/lib/python3.12/site-packages/sklearn/base.py\", line 1382, in wrapper\n",
      "    estimator._validate_params()\n",
      "  File \"/lhome/ific/a/aamerio/miniforge3/envs/cfm/lib/python3.12/site-packages/sklearn/base.py\", line 436, in _validate_params\n",
      "    validate_parameter_constraints(\n",
      "  File \"/lhome/ific/a/aamerio/miniforge3/envs/cfm/lib/python3.12/site-packages/sklearn/utils/_param_validation.py\", line 98, in validate_parameter_constraints\n",
      "    raise InvalidParameterError(\n",
      "sklearn.utils._param_validation.InvalidParameterError: The 'bandwidth' parameter of KernelDensity must be a float in the range (0.0, inf) or a str among {'silverman', 'scott'}. Got np.float64(-0.009206724042693779) instead.\n",
      "\n",
      "--------------------------------------------------------------------------------\n",
      "20 fits failed with the following error:\n",
      "Traceback (most recent call last):\n",
      "  File \"/lhome/ific/a/aamerio/miniforge3/envs/cfm/lib/python3.12/site-packages/sklearn/model_selection/_validation.py\", line 864, in _fit_and_score\n",
      "    estimator.fit(X_train, **fit_params)\n",
      "  File \"/lhome/ific/a/aamerio/miniforge3/envs/cfm/lib/python3.12/site-packages/sklearn/base.py\", line 1382, in wrapper\n",
      "    estimator._validate_params()\n",
      "  File \"/lhome/ific/a/aamerio/miniforge3/envs/cfm/lib/python3.12/site-packages/sklearn/base.py\", line 436, in _validate_params\n",
      "    validate_parameter_constraints(\n",
      "  File \"/lhome/ific/a/aamerio/miniforge3/envs/cfm/lib/python3.12/site-packages/sklearn/utils/_param_validation.py\", line 98, in validate_parameter_constraints\n",
      "    raise InvalidParameterError(\n",
      "sklearn.utils._param_validation.InvalidParameterError: The 'bandwidth' parameter of KernelDensity must be a float in the range (0.0, inf) or a str among {'silverman', 'scott'}. Got np.float64(-0.015344540071156293) instead.\n",
      "\n",
      "--------------------------------------------------------------------------------\n",
      "20 fits failed with the following error:\n",
      "Traceback (most recent call last):\n",
      "  File \"/lhome/ific/a/aamerio/miniforge3/envs/cfm/lib/python3.12/site-packages/sklearn/model_selection/_validation.py\", line 864, in _fit_and_score\n",
      "    estimator.fit(X_train, **fit_params)\n",
      "  File \"/lhome/ific/a/aamerio/miniforge3/envs/cfm/lib/python3.12/site-packages/sklearn/base.py\", line 1382, in wrapper\n",
      "    estimator._validate_params()\n",
      "  File \"/lhome/ific/a/aamerio/miniforge3/envs/cfm/lib/python3.12/site-packages/sklearn/base.py\", line 436, in _validate_params\n",
      "    validate_parameter_constraints(\n",
      "  File \"/lhome/ific/a/aamerio/miniforge3/envs/cfm/lib/python3.12/site-packages/sklearn/utils/_param_validation.py\", line 98, in validate_parameter_constraints\n",
      "    raise InvalidParameterError(\n",
      "sklearn.utils._param_validation.InvalidParameterError: The 'bandwidth' parameter of KernelDensity must be a float in the range (0.0, inf) or a str among {'silverman', 'scott'}. Got np.float64(-0.021482356099618807) instead.\n",
      "\n",
      "--------------------------------------------------------------------------------\n",
      "20 fits failed with the following error:\n",
      "Traceback (most recent call last):\n",
      "  File \"/lhome/ific/a/aamerio/miniforge3/envs/cfm/lib/python3.12/site-packages/sklearn/model_selection/_validation.py\", line 864, in _fit_and_score\n",
      "    estimator.fit(X_train, **fit_params)\n",
      "  File \"/lhome/ific/a/aamerio/miniforge3/envs/cfm/lib/python3.12/site-packages/sklearn/base.py\", line 1382, in wrapper\n",
      "    estimator._validate_params()\n",
      "  File \"/lhome/ific/a/aamerio/miniforge3/envs/cfm/lib/python3.12/site-packages/sklearn/base.py\", line 436, in _validate_params\n",
      "    validate_parameter_constraints(\n",
      "  File \"/lhome/ific/a/aamerio/miniforge3/envs/cfm/lib/python3.12/site-packages/sklearn/utils/_param_validation.py\", line 98, in validate_parameter_constraints\n",
      "    raise InvalidParameterError(\n",
      "sklearn.utils._param_validation.InvalidParameterError: The 'bandwidth' parameter of KernelDensity must be a float in the range (0.0, inf) or a str among {'silverman', 'scott'}. Got np.float64(-0.02762017212808132) instead.\n",
      "\n",
      "  warnings.warn(some_fits_failed_message, FitFailedWarning)\n",
      "/lhome/ific/a/aamerio/miniforge3/envs/cfm/lib/python3.12/site-packages/sklearn/model_selection/_search.py:1108: UserWarning: One or more of the test scores are non-finite: [ 13.88324584  14.40702012  14.6831856   13.57615708 -18.21933619\n",
      "          nan          nan          nan          nan          nan]\n",
      "  warnings.warn(\n"
     ]
    }
   ],
   "source": [
    "from sbibm.algorithms import rej_abc  # See help(rej_abc) for keywords\n",
    "posterior_samples, _, _ = rej_abc(task=task, num_samples=10_000, num_observation=1, num_simulations=100_000)\n"
   ]
  },
  {
   "cell_type": "code",
   "execution_count": 13,
   "metadata": {},
   "outputs": [
    {
     "data": {
      "image/png": "[encoded data removed]",
      "text/plain": [
       "<Figure size 640x480 with 1 Axes>"
      ]
     },
     "metadata": {},
     "output_type": "display_data"
    }
   ],
   "source": [
    "plt.hist2d(posterior_samples[:, 0], posterior_samples[:, 1], bins=(100,100), range=[(-1, 1), (-1, 1)], density=True)\n",
    "plt.xlim((-1,1))\n",
    "plt.ylim((-1,1))\n",
    "plt.gca().set_aspect('equal', adjustable='box')\n",
    "plt.show()"
   ]
  },
  {
   "cell_type": "code",
   "execution_count": 14,
   "metadata": {},
   "outputs": [],
   "source": [
    "# Once we got samples from an approximate posterior, compare them to the reference:\n",
    "from sbibm.metrics import c2st\n",
    "reference_samples = task.get_reference_posterior_samples(num_observation=1)"
   ]
  },
  {
   "cell_type": "code",
   "execution_count": 15,
   "metadata": {},
   "outputs": [
    {
     "data": {
      "image/png": "[encoded data removed]",
      "text/plain": [
       "<Figure size 640x480 with 1 Axes>"
      ]
     },
     "metadata": {},
     "output_type": "display_data"
    }
   ],
   "source": [
    "plt.hist2d(reference_samples[:, 0], reference_samples[:, 1], bins=(200,200), range=[(-1, 1), (-1, 1)], density=True)\n",
    "plt.xlim((-1,1))\n",
    "plt.ylim((-1,1))\n",
    "plt.gca().set_aspect('equal', adjustable='box')\n",
    "plt.show()"
   ]
  },
  {
   "cell_type": "code",
   "execution_count": 16,
   "metadata": {},
   "outputs": [],
   "source": [
    "# c2st_accuracy = c2st(reference_samples, posterior_samples)"
   ]
  },
  {
   "cell_type": "code",
   "execution_count": 17,
   "metadata": {},
   "outputs": [],
   "source": [
    "# c2st_accuracy # around 0.6"
   ]
  },
  {
   "cell_type": "markdown",
   "metadata": {},
   "source": [
    "# dataset"
   ]
  },
  {
   "cell_type": "code",
   "execution_count": 18,
   "metadata": {},
   "outputs": [],
   "source": [
    "# make a dataset\n",
    "nsamples = int(1e6)\n",
    "theta = prior.sample((nsamples,))\n",
    "xs = jnp.array(simulator(theta))\n",
    "node_ids = jnp.array(twomoons.get_node_id())\n",
    "dim_theta = twomoons.get_theta_dim()\n",
    "dim_x = twomoons.get_x_dim()\n",
    "\n",
    "# turn them into jax arrays\n",
    "theta = jnp.array(theta)\n",
    "xs = jnp.array(xs)\n",
    "\n",
    "# concatenate the data, theta and xs\n",
    "data = jnp.concatenate((theta, xs), axis=-1)\n",
    "\n",
    "val_perc = 0.05\n",
    "\n",
    "train_size = int(nsamples * (1 - val_perc)) \n",
    "\n",
    "train_data = data[:train_size]\n",
    "val_data = data[train_size:]\n"
   ]
  },
  {
   "cell_type": "code",
   "execution_count": 19,
   "metadata": {},
   "outputs": [],
   "source": [
    "# make an infinite dataloader that shuffles the data once it finishes cycling it\n",
    "class InfiniteDataLoader:\n",
    "    def __init__(self, data, batch_size, *, rng):\n",
    "        self.data = data\n",
    "        self.batch_size = batch_size\n",
    "        self.index = 0\n",
    "        self.rng = rng\n",
    "\n",
    "        self.data_mean = jnp.mean(data, axis=0)\n",
    "        self.data_std = jnp.std(data, axis=0)\n",
    "\n",
    "        # self.data = self.normalize(self.data)\n",
    "\n",
    "    def normalize(self, unnormalized_data):\n",
    "        # Normalize the data to be between 0 mean and unit varainve\n",
    "        data = unnormalized_data - self.data_mean\n",
    "        data = data / self.data_std\n",
    "\n",
    "        return data\n",
    "\n",
    "    def unnormalize(self, normdata):\n",
    "        # Unnormalize the data\n",
    "        data = normdata * self.data_std\n",
    "        data = data + self.data_mean\n",
    "        return data\n",
    "\n",
    "    def __iter__(self):\n",
    "        return self\n",
    "\n",
    "    def __next__(self):\n",
    "        if self.index >= len(self.data) or self.index + self.batch_size >= len(self.data):\n",
    "            self._shuffle()\n",
    "        batch = self.data[self.index : self.index + self.batch_size]\n",
    "        self.index += self.batch_size\n",
    "        return batch\n",
    "\n",
    "    def __len__(self):\n",
    "        return len(self.data) // self.batch_size\n",
    "\n",
    "    def __getitem__(self, index):\n",
    "        return self.data[index]\n",
    "\n",
    "    def _shuffle(self):\n",
    "        key, self.rng = jax.random.split(self.rng)\n",
    "        self.data = jax.random.permutation(key, self.data)\n",
    "        self.index = 0"
   ]
  },
  {
   "cell_type": "code",
   "execution_count": 20,
   "metadata": {},
   "outputs": [],
   "source": [
    "batch_size = 1000\n",
    "dataset = InfiniteDataLoader(train_data, batch_size, rng=nnx.Rngs(0).dataset())"
   ]
  },
  {
   "cell_type": "markdown",
   "metadata": {},
   "source": [
    "# define the CFM model"
   ]
  },
  {
   "cell_type": "code",
   "execution_count": 21,
   "metadata": {},
   "outputs": [],
   "source": [
    "path = AffineProbPath(scheduler=CondOTScheduler()) # define the probability path"
   ]
  },
  {
   "cell_type": "code",
   "execution_count": 22,
   "metadata": {},
   "outputs": [],
   "source": [
    "from models import Simformer, SimformerParams"
   ]
  },
  {
   "cell_type": "code",
   "execution_count": 23,
   "metadata": {},
   "outputs": [],
   "source": [
    "dim_joint= len(twomoons.get_node_id())"
   ]
  },
  {
   "cell_type": "code",
   "execution_count": 24,
   "metadata": {},
   "outputs": [],
   "source": [
    "params = SimformerParams(\n",
    "    rngs = nnx.Rngs(0),\n",
    "    dim_value = 40,\n",
    "    dim_id = 40, \n",
    "    dim_condition = 10, \n",
    "    dim_joint= dim_joint,\n",
    "    fourier_features = 128,\n",
    "    num_heads = 4,\n",
    "    num_layers = 6,\n",
    "    widening_factor = 3,\n",
    "    transformer_features = 8,\n",
    "    num_hidden_layers = 1,\n",
    "    dropout_rate = 0.0)"
   ]
  },
  {
   "cell_type": "code",
   "execution_count": 25,
   "metadata": {},
   "outputs": [],
   "source": [
    "loss_fn_cfm = ContinuousFMLoss(path)"
   ]
  },
  {
   "cell_type": "code",
   "execution_count": 26,
   "metadata": {},
   "outputs": [],
   "source": [
    "def marginalize(rng: jax.random.PRNGKey, edge_mask: jax.Array):\n",
    "    # Simple function that marginializes out a single node from a adjacency matrix of a graph.\n",
    "    idx = jax.random.choice(rng, jnp.arange(edge_mask.shape[0]), shape=(1,), replace=False)\n",
    "    edge_mask = edge_mask.at[idx, :].set(False)\n",
    "    edge_mask = edge_mask.at[:, idx].set(False)\n",
    "    edge_mask = edge_mask.at[idx, idx].set(True)\n",
    "    return edge_mask"
   ]
  },
  {
   "cell_type": "code",
   "execution_count": 27,
   "metadata": {},
   "outputs": [],
   "source": [
    "undirected_edge_mask = twomoons.get_edge_mask_fn(\"undirected\")(node_ids, None)\n",
    "posterior_faithfull = twomoons.get_edge_mask_fn(\"faithfull\")(node_ids, condition_mask=jnp.array([0,0,1,1]))"
   ]
  },
  {
   "cell_type": "code",
   "execution_count": 28,
   "metadata": {},
   "outputs": [],
   "source": [
    "@partial(jax.jit, static_argnames=[\"nsamples\"])\n",
    "def get_random_condition_mask(rng: jax.random.PRNGKey, nsamples):\n",
    "    mask_joint = jnp.zeros((nsamples, dim_joint ), dtype=jnp.bool_)\n",
    "    # repeat the joint mask 5 times on the first axis\n",
    "    mask_joint = jnp.repeat(mask_joint, 5, axis=0) # make it more probable\n",
    "    mask_posterior = jnp.concatenate([jnp.zeros((nsamples, dim_theta), dtype=jnp.bool_), jnp.ones((nsamples, dim_x), dtype=jnp.bool_)], axis=-1)\n",
    "    # mask_likelihood = jnp.concatenate([jnp.ones((nsamples, dim_theta), dtype=jnp.bool_), jnp.zeros((nsamples, dim_x), dtype=jnp.bool_)], axis=-1)\n",
    "    \n",
    "    mask1 = jax.random.bernoulli(rng, p=0.3, shape=(nsamples, dim_joint))\n",
    "    filter = ~jnp.all(mask1, axis=-1)\n",
    "    mask1 = jnp.logical_and(mask1, filter.reshape(-1,1))\n",
    "\n",
    "    # masks = jnp.concatenate([mask_joint, mask1, mask_posterior, mask_likelihood], axis=0)\n",
    "    masks = jnp.concatenate([mask_joint, mask1, mask_posterior], axis=0)\n",
    "    return  jax.random.choice(rng, masks, shape=(nsamples,), replace=False, axis=0)\n",
    "\n",
    "# @partial(jax.jit, static_argnames=[\"nsamples\"])\n",
    "# def get_random_condition_mask(rng: jax.random.PRNGKey, nsamples):\n",
    "#     mask_joint = jnp.zeros((nsamples, dim_joint ), dtype=jnp.bool_)\n",
    "#     mask_posterior = jnp.concatenate([jnp.zeros((nsamples, dim_theta), dtype=jnp.bool_), jnp.ones((nsamples, dim_x), dtype=jnp.bool_)], axis=-1)\n",
    "    \n",
    "#     masks = jnp.concatenate([mask_joint, mask_posterior], axis=0)\n",
    "#     return  jax.random.choice(rng, masks, shape=(nsamples,), replace=False, axis=0)\n",
    "    "
   ]
  },
  {
   "cell_type": "code",
   "execution_count": 29,
   "metadata": {},
   "outputs": [],
   "source": [
    "from numpyro import distributions as dist\n",
    "\n",
    "p0_dist_model = dist.Independent(\n",
    "    dist.Normal(loc=jnp.zeros((4,)), scale=jnp.ones((4,))),\n",
    "    reinterpreted_batch_ndims=1\n",
    ")"
   ]
  },
  {
   "cell_type": "code",
   "execution_count": 30,
   "metadata": {},
   "outputs": [],
   "source": [
    "def loss_fn_(vf_model, key: jax.random.PRNGKey):\n",
    "\n",
    "    batch_size = dataset.batch_size\n",
    "\n",
    "    rng_x0, rng_t, rng_condition, rng_edge_mask1, rng_edge_mask2 = jax.random.split(key, 5)\n",
    "    \n",
    "    # Generate data and random times\n",
    "    x_1 = next(dataset) # n, T_max, 1\n",
    "    x_0 = p0_dist_model.sample(rng_x0, (batch_size,)) # n, T_max, 1\n",
    "    # x_0 = jax.random.normal(rng_x0, x_1.shape) \n",
    "    \n",
    "    t = jax.random.uniform(rng_t, x_1.shape[0])\n",
    "\n",
    "    batch = (x_0, x_1, t)\n",
    "    \n",
    "    # Condition mask -> randomly condition on some data. Here you can choose between the different condition masks, and you should specify the conditionals you may want to compute afterwards.\n",
    "    condition_mask = get_random_condition_mask(rng_condition, batch_size)\n",
    "\n",
    "    # undirected_edge_mask \n",
    "    undirected_edge_mask_ = jnp.repeat(undirected_edge_mask[None,...], 3*batch_size, axis=0) # Dense default mask\n",
    "    \n",
    "    # faithfull posterior mask\n",
    "    faithfull_edge_mask_ = jnp.repeat(posterior_faithfull[None,...], 3*batch_size, axis=0) # Dense default mask\n",
    "    \n",
    "    # Include marginal consistency\n",
    "    marginal_mask = jax.vmap(marginalize, in_axes=(0,None))(jax.random.split(rng_edge_mask1, (batch_size,)), undirected_edge_mask)\n",
    "    edge_masks = jnp.concatenate([undirected_edge_mask_, faithfull_edge_mask_, marginal_mask], axis=0)\n",
    "    edge_masks = jax.random.choice(rng_edge_mask2, edge_masks, shape=(batch_size,), axis=0) # Randomly choose between dense and marginal mask\n",
    "\n",
    "\n",
    "    # Forward diffusion, do not perturb conditioned data\n",
    "    # Will use the condition mask to mask to prevent adding noise for nodes that are conditioned.\n",
    "    loss = loss_fn_cfm(vf_model, batch, node_ids=node_ids, edge_mask=edge_masks,condition_mask=condition_mask, )\n",
    "\n",
    "    return loss"
   ]
  },
  {
   "cell_type": "code",
   "execution_count": 31,
   "metadata": {},
   "outputs": [],
   "source": [
    "def val_loss(vf_model, key):\n",
    "    batch_size = val_data.shape[0]\n",
    "\n",
    "    rng_x0, rng_t, rng_condition, rng_edge_mask1, rng_edge_mask2 = jax.random.split(key, 5)\n",
    "    \n",
    "    # Generate data and random times\n",
    "    x_1 = val_data\n",
    "    x_0 = p0_dist_model.sample(rng_x0, (batch_size,)) # n, T_max, 1\n",
    "    \n",
    "    t = jax.random.uniform(rng_t, x_1.shape[0])\n",
    "\n",
    "    batch = (x_0, x_1, t)\n",
    "    \n",
    "    # Condition mask -> randomly condition on some data. Here you can choose between the different condition masks, and you should specify the conditionals you may want to compute afterwards.\n",
    "    condition_mask = get_random_condition_mask(rng_condition, batch_size)\n",
    "\n",
    "    # undirected_edge_mask \n",
    "    undirected_edge_mask_ = jnp.repeat(undirected_edge_mask[None,...], 3*batch_size, axis=0) # Dense default mask\n",
    "    \n",
    "    # faithfull posterior mask\n",
    "    faithfull_edge_mask_ = jnp.repeat(posterior_faithfull[None,...], 3*batch_size, axis=0) # Dense default mask\n",
    "    \n",
    "    # Include marginal consistency\n",
    "    marginal_mask = jax.vmap(marginalize, in_axes=(0,None))(jax.random.split(rng_edge_mask1, (batch_size,)), undirected_edge_mask)\n",
    "    edge_masks = jnp.concatenate([undirected_edge_mask_, faithfull_edge_mask_, marginal_mask], axis=0)\n",
    "    edge_masks = jax.random.choice(rng_edge_mask2, edge_masks, shape=(batch_size,), axis=0) # Randomly choose between dense and marginal mask\n",
    "\n",
    "\n",
    "    # Forward diffusion, do not perturb conditioned data\n",
    "    # Will use the condition mask to mask to prevent adding noise for nodes that are conditioned.\n",
    "    loss = loss_fn_cfm(vf_model, batch, node_ids=node_ids, edge_mask=edge_masks,condition_mask=condition_mask, )\n",
    "\n",
    "    return loss"
   ]
  },
  {
   "cell_type": "code",
   "execution_count": 32,
   "metadata": {},
   "outputs": [],
   "source": [
    "@nnx.jit\n",
    "def train_step(model, optimizer, rng):\n",
    "    loss_fn = lambda model: loss_fn_(model, rng)\n",
    "    loss, grads = nnx.value_and_grad(loss_fn)(model)\n",
    "    optimizer.update(grads)  # In place updates.\n",
    "    return loss"
   ]
  },
  {
   "cell_type": "code",
   "execution_count": 33,
   "metadata": {},
   "outputs": [],
   "source": [
    "vf_model = Simformer(params)"
   ]
  },
  {
   "cell_type": "code",
   "execution_count": 34,
   "metadata": {},
   "outputs": [
    {
     "data": {
      "text/plain": [
       "Array(1.2685411, dtype=float32)"
      ]
     },
     "execution_count": 34,
     "metadata": {},
     "output_type": "execute_result"
    }
   ],
   "source": [
    "optimizer = nnx.Optimizer(vf_model, optax.adam(1e-4))  \n",
    "train_step(vf_model, optimizer, nnx.Rngs(0).dist()) # ensure that the model is working and compile the function"
   ]
  },
  {
   "cell_type": "code",
   "execution_count": 35,
   "metadata": {},
   "outputs": [],
   "source": [
    "rngs = nnx.Rngs(0)"
   ]
  },
  {
   "cell_type": "code",
   "execution_count": 36,
   "metadata": {},
   "outputs": [
    {
     "name": "stderr",
     "output_type": "stream",
     "text": [
      "100%|██████████| 10000/10000 [03:01<00:00, 55.09it/s, counter=0, loss=0.5265, ratio=1.0070]\n",
      "100%|██████████| 10000/10000 [02:49<00:00, 58.99it/s, counter=0, loss=0.5168, ratio=1.0180]\n",
      "100%|██████████| 10000/10000 [02:52<00:00, 58.11it/s, counter=0, loss=0.5210, ratio=1.0029]\n",
      "100%|██████████| 10000/10000 [02:49<00:00, 58.94it/s, counter=0, loss=0.5178, ratio=1.0119]\n",
      "100%|██████████| 10000/10000 [02:50<00:00, 58.63it/s, counter=0, loss=0.5193, ratio=1.0087]\n"
     ]
    }
   ],
   "source": [
    "best_state = nnx.state(vf_model)\n",
    "val_loss_value = val_loss(vf_model, jax.random.PRNGKey(0))\n",
    "val_error_ratio = 1.1\n",
    "counter = 0\n",
    "cmax = 10\n",
    "print_every = 100\n",
    "early_stopping = True\n",
    "# early_stopping = False\n",
    "\n",
    "\n",
    "\n",
    "nepochs = 5\n",
    "schedule = optax.schedules.linear_schedule(1e-3, 1e-6, 20_000, 2000)\n",
    "\n",
    "# optax.chain(\n",
    "#         optax.adaptive_grad_clip(10.0), optax.adam(schedule)\n",
    "#     )\n",
    "\n",
    "optimizer = nnx.Optimizer(vf_model, optax.adamw(schedule))  \n",
    "# optimizer = nnx.Optimizer(vf_model, optax.adam(1e-4)) \n",
    "\n",
    "\n",
    "vf_model.train()\n",
    "\n",
    "for ep in range(nepochs):\n",
    "    pbar = tqdm(range(10000))\n",
    "    l = 0\n",
    "    for j in pbar:\n",
    "        if counter > cmax and early_stopping:\n",
    "            print(\"Early stopping\")\n",
    "            # restore the model state\n",
    "            graphdef, abstract_state = nnx.split(vf_model)\n",
    "\n",
    "            vf_model = nnx.merge(graphdef, best_state)\n",
    "            break\n",
    "        \n",
    "        key_ = rngs.train_step()\n",
    "        loss = train_step(vf_model, optimizer, key_)\n",
    "        l += loss.item()\n",
    "        if j>0 and j % 100 == 0:\n",
    "            loss_ = l/100\n",
    "            val_ = val_loss(vf_model, rngs.val_step())\n",
    "\n",
    "            ratio = val_ / loss_\n",
    "            \n",
    "            if ratio < val_error_ratio:\n",
    "                val_loss_value = val_\n",
    "                counter = 0\n",
    "                best_state = nnx.state(vf_model)\n",
    "            else:\n",
    "                counter += 1\n",
    "            pbar.set_postfix(loss=f\"{l/(100):.4f}\", ratio=f\"{ratio:.4f}\", counter=counter)\n",
    "            l=0\n",
    "    # print(l)\n",
    "\n",
    "\n",
    "\n",
    "vf_model.eval()"
   ]
  },
  {
   "cell_type": "markdown",
   "metadata": {},
   "source": [
    "# sample the posterior"
   ]
  },
  {
   "cell_type": "code",
   "execution_count": 37,
   "metadata": {},
   "outputs": [],
   "source": [
    "# we want to do conditional inference. We need an observation for which we want to ocmpute the posterior\n",
    "idx=2\n",
    "observation = jnp.array(twomoons.get_observation(idx))\n",
    "reference_samples = task.get_reference_posterior_samples(num_observation=idx)"
   ]
  },
  {
   "cell_type": "code",
   "execution_count": 38,
   "metadata": {},
   "outputs": [],
   "source": [
    "from flow_matching.utils import ConditionalModelWrapper\n",
    "\n",
    "vf_wrapped = ConditionalModelWrapper(vf_model)"
   ]
  },
  {
   "cell_type": "code",
   "execution_count": 39,
   "metadata": {},
   "outputs": [],
   "source": [
    "rng = jax.random.PRNGKey(45)\n",
    "T = jnp.linspace(0,1,10)  # sample times\n",
    "step_size = 0.001\n",
    "\n",
    "nsamples = 10_000 #reference_samples.shape[0]\n",
    "\n",
    "# x_init = jnp.zeros((nsamples, dim_joint))  # initial conditions\n",
    "key1,key2 = jax.random.split(rng, 2)\n",
    "x_init = p0_dist_model.sample(key1, (nsamples,))\n",
    "# noise = jnp.zeros((batch_size, dim_x)) # n, T_max, 1\n",
    "# noise = jax.random.normal(key2, (batch_size, dim_x)) # n, T_max, 1\n",
    "# x_init = jnp.concatenate([samples_prior, noise], axis=-1)\n",
    "\n",
    "\n",
    "# x_init = jax.random.normal(rng, (nsamples, dim_joint))  # initial conditions\n",
    "condition_mask = jnp.array([0,0,1,1], dtype=jnp.bool_)  # condition on the data, obtain the 2d posterior\n",
    "\n",
    "\n",
    "x_init = x_init.at[:, 2].set(observation[0,0]) # set the conditioned values\n",
    "x_init = x_init.at[:, 3].set(observation[0,1]) # set the conditioned values\n",
    "\n",
    "# x_init = x_init.at[:, 2].set(data[42,0]) # set the conditioned values\n",
    "# x_init = x_init.at[:, 3].set(data[42,1]) # set the conditioned values\n",
    "\n",
    "\n",
    "solver = ODESolver(velocity_model=vf_wrapped)  # create an ODESolver class\n",
    "# model_extras = {\"node_ids\": jnp.array([0, 1, 2, 3]), \"edge_mask\": undirected_edge_mask}\n",
    "model_extras = {\"node_ids\": jnp.array([0, 1, 2, 3]), \"edge_mask\": posterior_faithfull}\n",
    "sampler_ = solver.get_sampler(time_grid=T, condition_mask=condition_mask, method='dopri5', step_size=step_size, return_intermediates=False, model_extras=model_extras)\n",
    "samples = sampler_(x_init)  # sample from the model\n",
    "\n",
    "# samples = dataset.unnormalize(samples)"
   ]
  },
  {
   "cell_type": "code",
   "execution_count": 40,
   "metadata": {},
   "outputs": [
    {
     "data": {
      "image/png": "[encoded data removed]",
      "text/plain": [
       "<Figure size 640x480 with 1 Axes>"
      ]
     },
     "metadata": {},
     "output_type": "display_data"
    }
   ],
   "source": [
    "posterior_samples = samples[:,0:2]\n",
    "\n",
    "plt.hist2d(posterior_samples[:,0], posterior_samples[:,1], bins=(200,200), range=[(-1, 1), (-1, 1)], density=True)\n",
    "# same ratio on axis \n",
    "# plt.scatter(reference_samples[:,0], reference_samples[:,1], s=0.1, color='red', alpha=0.1, marker='x')\n",
    "plt.gca().set_aspect('equal', adjustable='box')\n",
    "# plt.xlim((-1,1))\n",
    "# plt.ylim((-1,1))\n",
    "plt.show()"
   ]
  },
  {
   "attachments": {
    "image.png": {
     "image/png": "[encoded data removed]"
    }
   },
   "cell_type": "markdown",
   "metadata": {},
   "source": [
    "![image.png](attachment:image.png)"
   ]
  },
  {
   "cell_type": "markdown",
   "metadata": {},
   "source": [
    "# evaluate the posterior"
   ]
  },
  {
   "cell_type": "code",
   "execution_count": 41,
   "metadata": {},
   "outputs": [],
   "source": [
    "grid_size = 200\n",
    "x_1 = jnp.meshgrid(jnp.linspace(-1, 1, grid_size), jnp.linspace(-1, 1, grid_size))\n",
    "x_1 = jnp.stack([x_1[0].flatten(), x_1[1].flatten()], axis=1)"
   ]
  },
  {
   "cell_type": "code",
   "execution_count": 42,
   "metadata": {},
   "outputs": [],
   "source": [
    "# get the logprob\n",
    "logp_sampler = solver.get_unnormalized_logprob(condition_mask=condition_mask, time_grid=[1.0,0.0],method='dopri5', step_size=step_size, log_p0=p0_dist_model.log_prob, model_extras=model_extras)\n",
    "# create an y_init which has theta on the first position and x1,x2 on the second and third position\n",
    "y_init = jnp.zeros((x_1.shape[0], 4))\n",
    "y_init = y_init.at[:,0].set(x_1[:,0])\n",
    "y_init = y_init.at[:,1].set(x_1[:,1])\n",
    "y_init = y_init.at[:,2].set(observation[0,0])\n",
    "y_init = y_init.at[:,3].set(observation[0,1])\n",
    "\n",
    "_ , exact_log_p = logp_sampler(y_init)\n",
    "p = jnp.exp(exact_log_p)[-1]\n",
    "# # # normalize the distribution\n",
    "# n = jax.scipy.integrate.trapezoid(p, theta)\n",
    "# p = p/n\n"
   ]
  },
  {
   "cell_type": "code",
   "execution_count": 43,
   "metadata": {},
   "outputs": [
    {
     "data": {
      "image/png": "[encoded data removed]",
      "text/plain": [
       "<Figure size 640x480 with 2 Axes>"
      ]
     },
     "metadata": {},
     "output_type": "display_data"
    }
   ],
   "source": [
    "p_grid = p.reshape((grid_size, grid_size))\n",
    "plt.imshow(p_grid, origin='lower', aspect='auto', extent=(-1, 1, -1, 1), cmap='viridis', vmin=0, vmax=10)\n",
    "# plt.scatter(posterior_samples[:100,0], posterior_samples[:100,1], alpha=1, color='red', s=2)\n",
    "plt.xlim((-1,1))\n",
    "plt.ylim((-1,1))\n",
    "plt.colorbar()\n",
    "plt.show()"
   ]
  },
  {
   "cell_type": "markdown",
   "metadata": {},
   "source": [
    "# C2ST test"
   ]
  },
  {
   "cell_type": "code",
   "execution_count": 44,
   "metadata": {},
   "outputs": [],
   "source": [
    "# convert posterior samples to a torch array\n",
    "import torch\n",
    "# posterior_samples_cfg_torch = torch.tensor(np.array(posterior_samples_cfg))\n",
    "posterior_samples_torch = torch.tensor(np.array(posterior_samples))"
   ]
  },
  {
   "cell_type": "code",
   "execution_count": 45,
   "metadata": {},
   "outputs": [],
   "source": [
    "# c2st_accuracy_cfg = c2st(reference_samples, posterior_samples_cfg_torch)\n",
    "c2st_accuracy = c2st(reference_samples, posterior_samples_torch)"
   ]
  },
  {
   "cell_type": "code",
   "execution_count": 46,
   "metadata": {},
   "outputs": [
    {
     "data": {
      "text/plain": [
       "tensor([0.5436])"
      ]
     },
     "execution_count": 46,
     "metadata": {},
     "output_type": "execute_result"
    }
   ],
   "source": [
    "c2st_accuracy"
   ]
  },
  {
   "cell_type": "code",
   "execution_count": null,
   "metadata": {},
   "outputs": [],
   "source": []
  }
 ],
 "metadata": {
  "kernelspec": {
   "display_name": "cfm",
   "language": "python",
   "name": "python3"
  },
  "language_info": {
   "codemirror_mode": {
    "name": "ipython",
    "version": 3
   },
   "file_extension": ".py",
   "mimetype": "text/x-python",
   "name": "python",
   "nbconvert_exporter": "python",
   "pygments_lexer": "ipython3",
   "version": "3.12.10"
  }
 },
 "nbformat": 4,
 "nbformat_minor": 2
}
