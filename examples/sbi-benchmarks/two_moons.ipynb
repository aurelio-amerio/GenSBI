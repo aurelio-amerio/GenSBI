{
 "cells": [
  {
   "cell_type": "code",
   "execution_count": 1,
   "metadata": {},
   "outputs": [],
   "source": [
    "# load autoreload extension\n",
    "%load_ext autoreload\n",
    "%autoreload 2"
   ]
  },
  {
   "cell_type": "code",
   "execution_count": 2,
   "metadata": {},
   "outputs": [],
   "source": [
    "import os\n",
    "# os.environ['JAX_PLATFORMS']=\"cpu\"\n",
    "os.environ['JAX_PLATFORMS']=\"cuda\""
   ]
  },
  {
   "cell_type": "code",
   "execution_count": 3,
   "metadata": {},
   "outputs": [
    {
     "name": "stderr",
     "output_type": "stream",
     "text": [
      "/lhome/ific/a/aamerio/miniforge3/envs/cfm/lib/python3.12/site-packages/tqdm/auto.py:21: TqdmWarning: IProgress not found. Please update jupyter and ipywidgets. See https://ipywidgets.readthedocs.io/en/stable/user_install.html\n",
      "  from .autonotebook import tqdm as notebook_tqdm\n"
     ]
    }
   ],
   "source": [
    "import matplotlib.pyplot as plt\n",
    "import jax\n",
    "import jax.numpy as jnp\n",
    "import optax\n",
    "\n",
    "import numpy as np\n",
    "\n",
    "from tqdm.auto import tqdm\n",
    "\n",
    "from functools import partial\n",
    "\n",
    "from flax import nnx"
   ]
  },
  {
   "cell_type": "code",
   "execution_count": 4,
   "metadata": {},
   "outputs": [],
   "source": [
    "import sys \n",
    "sys.path.append(\"examples/sbi-benchmarks\")\n",
    "sys.path.append(\"src/\")"
   ]
  },
  {
   "cell_type": "code",
   "execution_count": 5,
   "metadata": {},
   "outputs": [],
   "source": [
    "import sbibm\n",
    "from utils.sbi_tasks import TwoMoons\n",
    "\n",
    "from flow_matching.path.scheduler import CondOTScheduler\n",
    "from flow_matching.path import AffineProbPath\n",
    "from flow_matching.solver import ODESolver\n",
    "from flow_matching.loss import ContinuousFMLoss"
   ]
  },
  {
   "cell_type": "code",
   "execution_count": 6,
   "metadata": {},
   "outputs": [],
   "source": [
    "twomoons = TwoMoons()\n",
    "task = twomoons.task\n",
    "prior = twomoons.get_prior()\n",
    "simulator = twomoons.get_simulator()\n",
    "observation = twomoons.get_observation(1)\n",
    "\n",
    "theta = prior.sample((10_000,))\n",
    "xs = simulator(theta)"
   ]
  },
  {
   "cell_type": "code",
   "execution_count": 7,
   "metadata": {},
   "outputs": [],
   "source": [
    "@partial(jax.jit, static_argnames=[\"size\"])\n",
    "def sample_prior(size):\n",
    "    return jnp.array(prior.sample((size,)))"
   ]
  },
  {
   "cell_type": "code",
   "execution_count": 8,
   "metadata": {},
   "outputs": [
    {
     "data": {
      "image/png": "[encoded data removed]",
      "text/plain": [
       "<Figure size 640x480 with 1 Axes>"
      ]
     },
     "metadata": {},
     "output_type": "display_data"
    }
   ],
   "source": [
    "plt.hist2d(xs[:,0],xs[:,1], bins=50, density=True)\n",
    "plt.show()"
   ]
  },
  {
   "cell_type": "code",
   "execution_count": 9,
   "metadata": {},
   "outputs": [
    {
     "name": "stderr",
     "output_type": "stream",
     "text": [
      "Running REJ-ABC\n",
      "Running 100000 simulations.: 100%|██████████| 100000/100000 [00:00<00:00, 2703787.22it/s]\n",
      "/lhome/ific/a/aamerio/miniforge3/envs/cfm/lib/python3.12/site-packages/sklearn/model_selection/_validation.py:528: FitFailedWarning: \n",
      "100 fits failed out of a total of 200.\n",
      "The score on these train-test partitions for these parameters will be set to nan.\n",
      "If these failures are not expected, you can try to debug them by setting error_score='raise'.\n",
      "\n",
      "Below are more details about the failures:\n",
      "--------------------------------------------------------------------------------\n",
      "20 fits failed with the following error:\n",
      "Traceback (most recent call last):\n",
      "  File \"/lhome/ific/a/aamerio/miniforge3/envs/cfm/lib/python3.12/site-packages/sklearn/model_selection/_validation.py\", line 864, in _fit_and_score\n",
      "    estimator.fit(X_train, **fit_params)\n",
      "  File \"/lhome/ific/a/aamerio/miniforge3/envs/cfm/lib/python3.12/site-packages/sklearn/base.py\", line 1382, in wrapper\n",
      "    estimator._validate_params()\n",
      "  File \"/lhome/ific/a/aamerio/miniforge3/envs/cfm/lib/python3.12/site-packages/sklearn/base.py\", line 436, in _validate_params\n",
      "    validate_parameter_constraints(\n",
      "  File \"/lhome/ific/a/aamerio/miniforge3/envs/cfm/lib/python3.12/site-packages/sklearn/utils/_param_validation.py\", line 98, in validate_parameter_constraints\n",
      "    raise InvalidParameterError(\n",
      "sklearn.utils._param_validation.InvalidParameterError: The 'bandwidth' parameter of KernelDensity must be a float in the range (0.0, inf) or a str among {'silverman', 'scott'}. Got np.float64(-0.0030459689183367604) instead.\n",
      "\n",
      "--------------------------------------------------------------------------------\n",
      "20 fits failed with the following error:\n",
      "Traceback (most recent call last):\n",
      "  File \"/lhome/ific/a/aamerio/miniforge3/envs/cfm/lib/python3.12/site-packages/sklearn/model_selection/_validation.py\", line 864, in _fit_and_score\n",
      "    estimator.fit(X_train, **fit_params)\n",
      "  File \"/lhome/ific/a/aamerio/miniforge3/envs/cfm/lib/python3.12/site-packages/sklearn/base.py\", line 1382, in wrapper\n",
      "    estimator._validate_params()\n",
      "  File \"/lhome/ific/a/aamerio/miniforge3/envs/cfm/lib/python3.12/site-packages/sklearn/base.py\", line 436, in _validate_params\n",
      "    validate_parameter_constraints(\n",
      "  File \"/lhome/ific/a/aamerio/miniforge3/envs/cfm/lib/python3.12/site-packages/sklearn/utils/_param_validation.py\", line 98, in validate_parameter_constraints\n",
      "    raise InvalidParameterError(\n",
      "sklearn.utils._param_validation.InvalidParameterError: The 'bandwidth' parameter of KernelDensity must be a float in the range (0.0, inf) or a str among {'silverman', 'scott'}. Got np.float64(-0.009137906755010285) instead.\n",
      "\n",
      "--------------------------------------------------------------------------------\n",
      "20 fits failed with the following error:\n",
      "Traceback (most recent call last):\n",
      "  File \"/lhome/ific/a/aamerio/miniforge3/envs/cfm/lib/python3.12/site-packages/sklearn/model_selection/_validation.py\", line 864, in _fit_and_score\n",
      "    estimator.fit(X_train, **fit_params)\n",
      "  File \"/lhome/ific/a/aamerio/miniforge3/envs/cfm/lib/python3.12/site-packages/sklearn/base.py\", line 1382, in wrapper\n",
      "    estimator._validate_params()\n",
      "  File \"/lhome/ific/a/aamerio/miniforge3/envs/cfm/lib/python3.12/site-packages/sklearn/base.py\", line 436, in _validate_params\n",
      "    validate_parameter_constraints(\n",
      "  File \"/lhome/ific/a/aamerio/miniforge3/envs/cfm/lib/python3.12/site-packages/sklearn/utils/_param_validation.py\", line 98, in validate_parameter_constraints\n",
      "    raise InvalidParameterError(\n",
      "sklearn.utils._param_validation.InvalidParameterError: The 'bandwidth' parameter of KernelDensity must be a float in the range (0.0, inf) or a str among {'silverman', 'scott'}. Got np.float64(-0.015229844591683805) instead.\n",
      "\n",
      "--------------------------------------------------------------------------------\n",
      "20 fits failed with the following error:\n",
      "Traceback (most recent call last):\n",
      "  File \"/lhome/ific/a/aamerio/miniforge3/envs/cfm/lib/python3.12/site-packages/sklearn/model_selection/_validation.py\", line 864, in _fit_and_score\n",
      "    estimator.fit(X_train, **fit_params)\n",
      "  File \"/lhome/ific/a/aamerio/miniforge3/envs/cfm/lib/python3.12/site-packages/sklearn/base.py\", line 1382, in wrapper\n",
      "    estimator._validate_params()\n",
      "  File \"/lhome/ific/a/aamerio/miniforge3/envs/cfm/lib/python3.12/site-packages/sklearn/base.py\", line 436, in _validate_params\n",
      "    validate_parameter_constraints(\n",
      "  File \"/lhome/ific/a/aamerio/miniforge3/envs/cfm/lib/python3.12/site-packages/sklearn/utils/_param_validation.py\", line 98, in validate_parameter_constraints\n",
      "    raise InvalidParameterError(\n",
      "sklearn.utils._param_validation.InvalidParameterError: The 'bandwidth' parameter of KernelDensity must be a float in the range (0.0, inf) or a str among {'silverman', 'scott'}. Got np.float64(-0.021321782428357333) instead.\n",
      "\n",
      "--------------------------------------------------------------------------------\n",
      "20 fits failed with the following error:\n",
      "Traceback (most recent call last):\n",
      "  File \"/lhome/ific/a/aamerio/miniforge3/envs/cfm/lib/python3.12/site-packages/sklearn/model_selection/_validation.py\", line 864, in _fit_and_score\n",
      "    estimator.fit(X_train, **fit_params)\n",
      "  File \"/lhome/ific/a/aamerio/miniforge3/envs/cfm/lib/python3.12/site-packages/sklearn/base.py\", line 1382, in wrapper\n",
      "    estimator._validate_params()\n",
      "  File \"/lhome/ific/a/aamerio/miniforge3/envs/cfm/lib/python3.12/site-packages/sklearn/base.py\", line 436, in _validate_params\n",
      "    validate_parameter_constraints(\n",
      "  File \"/lhome/ific/a/aamerio/miniforge3/envs/cfm/lib/python3.12/site-packages/sklearn/utils/_param_validation.py\", line 98, in validate_parameter_constraints\n",
      "    raise InvalidParameterError(\n",
      "sklearn.utils._param_validation.InvalidParameterError: The 'bandwidth' parameter of KernelDensity must be a float in the range (0.0, inf) or a str among {'silverman', 'scott'}. Got np.float64(-0.02741372026503086) instead.\n",
      "\n",
      "  warnings.warn(some_fits_failed_message, FitFailedWarning)\n",
      "/lhome/ific/a/aamerio/miniforge3/envs/cfm/lib/python3.12/site-packages/sklearn/model_selection/_search.py:1108: UserWarning: One or more of the test scores are non-finite: [ 13.56802894  14.07160419  14.40261278  13.93587362 -11.34142599\n",
      "          nan          nan          nan          nan          nan]\n",
      "  warnings.warn(\n"
     ]
    }
   ],
   "source": [
    "from sbibm.algorithms import rej_abc  # See help(rej_abc) for keywords\n",
    "posterior_samples, _, _ = rej_abc(task=task, num_samples=10_000, num_observation=1, num_simulations=100_000)\n"
   ]
  },
  {
   "cell_type": "code",
   "execution_count": 10,
   "metadata": {},
   "outputs": [
    {
     "data": {
      "image/png": "[encoded data removed]",
      "text/plain": [
       "<Figure size 640x480 with 1 Axes>"
      ]
     },
     "metadata": {},
     "output_type": "display_data"
    }
   ],
   "source": [
    "plt.hist2d(posterior_samples[:, 0], posterior_samples[:, 1], bins=(200,200), range=[(-1, 1), (-1, 1)], density=True)\n",
    "plt.xlim((-1,1))\n",
    "plt.ylim((-1,1))\n",
    "plt.gca().set_aspect('equal', adjustable='box')\n",
    "plt.show()"
   ]
  },
  {
   "cell_type": "code",
   "execution_count": 11,
   "metadata": {},
   "outputs": [],
   "source": [
    "# Once we got samples from an approximate posterior, compare them to the reference:\n",
    "from sbibm.metrics import c2st\n",
    "reference_samples = task.get_reference_posterior_samples(num_observation=1)"
   ]
  },
  {
   "cell_type": "code",
   "execution_count": 12,
   "metadata": {},
   "outputs": [
    {
     "data": {
      "image/png": "[encoded data removed]",
      "text/plain": [
       "<Figure size 640x480 with 1 Axes>"
      ]
     },
     "metadata": {},
     "output_type": "display_data"
    }
   ],
   "source": [
    "plt.hist2d(reference_samples[:, 0], reference_samples[:, 1], bins=(200,200), range=[(-1, 1), (-1, 1)], density=True)\n",
    "plt.xlim((-1,1))\n",
    "plt.ylim((-1,1))\n",
    "plt.gca().set_aspect('equal', adjustable='box')\n",
    "plt.show()"
   ]
  },
  {
   "cell_type": "code",
   "execution_count": 13,
   "metadata": {},
   "outputs": [],
   "source": [
    "# c2st_accuracy = c2st(reference_samples, posterior_samples)"
   ]
  },
  {
   "cell_type": "code",
   "execution_count": 14,
   "metadata": {},
   "outputs": [],
   "source": [
    "# c2st_accuracy # around 0.6"
   ]
  },
  {
   "cell_type": "markdown",
   "metadata": {},
   "source": [
    "# define the CFM model"
   ]
  },
  {
   "cell_type": "code",
   "execution_count": 283,
   "metadata": {},
   "outputs": [],
   "source": [
    "path = AffineProbPath(scheduler=CondOTScheduler()) # define the probability path"
   ]
  },
  {
   "cell_type": "code",
   "execution_count": 284,
   "metadata": {},
   "outputs": [],
   "source": [
    "from utils.simformer import Simformer"
   ]
  },
  {
   "cell_type": "code",
   "execution_count": 285,
   "metadata": {},
   "outputs": [],
   "source": [
    "dim_value = 128     # Size of the value embedding, which is token_dim\n",
    "dim_id = 20       # Size of the node id embedding\n",
    "dim_condition = 20  # Size of the condition embedding\n",
    "num_heads = 5      # Number of attention heads\n",
    "transformer_features = 10 # Number of features in the transformer\n",
    "\n",
    "dim_joint = len(twomoons.get_node_id())"
   ]
  },
  {
   "cell_type": "code",
   "execution_count": 306,
   "metadata": {},
   "outputs": [],
   "source": [
    "vf_model = Simformer(\n",
    "    dim_value=dim_value,\n",
    "    dim_id=dim_id,\n",
    "    dim_condition=dim_condition,\n",
    "    dim_joint=dim_joint,\n",
    "    num_heads=num_heads,\n",
    "    dropout_rate = 0.01,\n",
    "    transformer_features=transformer_features,\n",
    "    rngs = nnx.Rngs(0)\n",
    ")"
   ]
  },
  {
   "cell_type": "code",
   "execution_count": 307,
   "metadata": {},
   "outputs": [],
   "source": [
    "# make a dataset\n",
    "nsamples = int(1e4)\n",
    "theta = prior.sample((nsamples,))\n",
    "xs = jnp.array(simulator(theta))\n",
    "node_ids = jnp.array(twomoons.get_node_id())\n",
    "dim_theta = twomoons.get_theta_dim()\n",
    "dim_x = twomoons.get_x_dim()\n",
    "\n",
    "# turn them into jax arrays\n",
    "theta = jnp.array(theta)\n",
    "xs = jnp.array(xs)\n",
    "\n",
    "# concatenate the data, theta and xs\n",
    "data = jnp.concatenate((theta, xs), axis=-1)\n"
   ]
  },
  {
   "cell_type": "code",
   "execution_count": 308,
   "metadata": {},
   "outputs": [],
   "source": [
    "# make an infinite dataloader that shuffles the data once it finishes cycling it\n",
    "class InfiniteDataLoader:\n",
    "    def __init__(self, data, batch_size, *, rngs: nnx.Rngs):\n",
    "        self.data = data\n",
    "        self.batch_size = batch_size\n",
    "        self.index = 0\n",
    "        self.rngs = rngs\n",
    "\n",
    "        self.data_mean = jnp.mean(data, axis=0)\n",
    "        self.data_std = jnp.std(data, axis=0)\n",
    "\n",
    "        # self.data = self.normalize(self.data)\n",
    "\n",
    "    def normalize(self, unnormalized_data):\n",
    "        # Normalize the data to be between 0 mean and unit varainve\n",
    "        data = unnormalized_data - self.data_mean\n",
    "        data = data / self.data_std\n",
    "\n",
    "        return data\n",
    "\n",
    "    def unnormalize(self, normdata):\n",
    "        # Unnormalize the data\n",
    "        data = normdata * self.data_std\n",
    "        data = data + self.data_mean\n",
    "        return data\n",
    "\n",
    "    def __iter__(self):\n",
    "        return self\n",
    "\n",
    "    def __next__(self):\n",
    "        if self.index >= len(self.data):\n",
    "            self._shuffle()\n",
    "        batch = self.data[self.index : self.index + self.batch_size]\n",
    "        self.index += self.batch_size\n",
    "        return batch\n",
    "\n",
    "    def __len__(self):\n",
    "        return len(self.data) // self.batch_size\n",
    "\n",
    "    def __getitem__(self, index):\n",
    "        return self.data[index]\n",
    "\n",
    "    def _shuffle(self):\n",
    "        self.data = jax.random.permutation(self.rngs.perm(), self.data)\n",
    "        self.index = 0"
   ]
  },
  {
   "cell_type": "code",
   "execution_count": 309,
   "metadata": {},
   "outputs": [],
   "source": [
    "batch_size = 1024\n",
    "dataset = InfiniteDataLoader(data, batch_size, rngs=nnx.Rngs(0))"
   ]
  },
  {
   "cell_type": "code",
   "execution_count": 310,
   "metadata": {},
   "outputs": [
    {
     "data": {
      "text/plain": [
       "(1024, 4)"
      ]
     },
     "execution_count": 310,
     "metadata": {},
     "output_type": "execute_result"
    }
   ],
   "source": [
    "# make sure the model works\n",
    "batch = next(dataset)\n",
    "vf_model(batch, jnp.ones((1,)),node_ids=node_ids, condition_mask=jnp.zeros_like(node_ids)).shape"
   ]
  },
  {
   "cell_type": "code",
   "execution_count": 311,
   "metadata": {},
   "outputs": [],
   "source": [
    "loss_fn_cfm = ContinuousFMLoss(path)"
   ]
  },
  {
   "cell_type": "code",
   "execution_count": 312,
   "metadata": {},
   "outputs": [],
   "source": [
    "def marginalize(rng: jax.random.PRNGKey, edge_mask: jax.Array):\n",
    "    # Simple function that marginializes out a single node from a adjacency matrix of a graph.\n",
    "    idx = jax.random.choice(rng, jnp.arange(edge_mask.shape[0]), shape=(1,), replace=False)\n",
    "    edge_mask = edge_mask.at[idx, :].set(False)\n",
    "    edge_mask = edge_mask.at[:, idx].set(False)\n",
    "    edge_mask = edge_mask.at[idx, idx].set(True)\n",
    "    return edge_mask"
   ]
  },
  {
   "cell_type": "code",
   "execution_count": 313,
   "metadata": {},
   "outputs": [],
   "source": [
    "undirected_edge_mask = twomoons.get_edge_mask_fn(\"undirected\")(node_ids, None)\n",
    "posterior_faithfull = twomoons.get_edge_mask_fn(\"faithfull\")(node_ids, condition_mask=jnp.array([0,0,1,1]))"
   ]
  },
  {
   "cell_type": "code",
   "execution_count": 314,
   "metadata": {},
   "outputs": [],
   "source": [
    "@partial(jax.jit, static_argnames=[\"nsamples\"])\n",
    "def get_random_condition_mask(rng: jax.random.PRNGKey, nsamples):\n",
    "    mask_joint = jnp.zeros((nsamples, dim_joint ), dtype=jnp.bool_)\n",
    "    # repeat the joint mask 5 times on the first axis\n",
    "    mask_joint = jnp.repeat(mask_joint, 5, axis=0) # make it more probable\n",
    "    mask_posterior = jnp.concatenate([jnp.zeros((nsamples, dim_theta), dtype=jnp.bool_), jnp.ones((nsamples, dim_x), dtype=jnp.bool_)], axis=-1)\n",
    "    # mask_likelihood = jnp.concatenate([jnp.ones((nsamples, dim_theta), dtype=jnp.bool_), jnp.zeros((nsamples, dim_x), dtype=jnp.bool_)], axis=-1)\n",
    "    \n",
    "    mask1 = jax.random.bernoulli(rng, p=0.3, shape=(nsamples, dim_joint))\n",
    "    filter = ~jnp.all(mask1, axis=-1)\n",
    "    mask1 = jnp.logical_and(mask1, filter.reshape(-1,1))\n",
    "\n",
    "    # masks = jnp.concatenate([mask_joint, mask1, mask_posterior, mask_likelihood], axis=0)\n",
    "    masks = jnp.concatenate([mask_joint, mask1, mask_posterior], axis=0)\n",
    "    return  jax.random.choice(rng, masks, shape=(nsamples,), replace=False, axis=0)\n",
    "\n",
    "# @partial(jax.jit, static_argnames=[\"nsamples\"])\n",
    "# def get_random_condition_mask(rng: jax.random.PRNGKey, nsamples):\n",
    "#     mask_joint = jnp.zeros((nsamples, dim_joint ), dtype=jnp.bool_)\n",
    "#     mask_posterior = jnp.concatenate([jnp.zeros((nsamples, dim_theta), dtype=jnp.bool_), jnp.ones((nsamples, dim_x), dtype=jnp.bool_)], axis=-1)\n",
    "    \n",
    "#     masks = jnp.concatenate([mask_joint, mask_posterior], axis=0)\n",
    "#     return  jax.random.choice(rng, masks, shape=(nsamples,), replace=False, axis=0)\n",
    "    "
   ]
  },
  {
   "cell_type": "code",
   "execution_count": 354,
   "metadata": {},
   "outputs": [],
   "source": [
    "from numpyro import distributions as dist\n",
    "\n",
    "mixing_probs = jnp.array([0.5, 0.5])\n",
    "mixing_dist = dist.Categorical(probs=mixing_probs)\n",
    "\n",
    "locs = jnp.array([\n",
    "    [-1.0, -1.0, 0., 0.],\n",
    "    [1.0, 1.0, 0., 0.]\n",
    "])\n",
    "\n",
    "scales = jnp.ones((2, 4))\n",
    "\n",
    "\n",
    "batched_normals = dist.Normal(loc=locs, scale=scales)\n",
    "\n",
    "component_distributions = dist.Independent(batched_normals, reinterpreted_batch_ndims=1)\n",
    "\n",
    "p0_dist_model = dist.Mixture(mixing_dist, component_distributions)"
   ]
  },
  {
   "cell_type": "code",
   "execution_count": 355,
   "metadata": {},
   "outputs": [],
   "source": [
    "def loss_fn_(vf_model, key: jax.random.PRNGKey):\n",
    "\n",
    "    batch_size = dataset.batch_size\n",
    "\n",
    "    rng_x0, rng_t, rng_condition, rng_edge_mask1, rng_edge_mask2 = jax.random.split(key, 5)\n",
    "    \n",
    "    # Generate data and random times\n",
    "    x_1 = next(dataset) # n, T_max, 1\n",
    "    x_0 = p0_dist_model.sample(rng_x0, (batch_size,)) # n, T_max, 1\n",
    "    # x_0 = jax.random.normal(rng_x0, x_1.shape) \n",
    "    \n",
    "    t = jax.random.uniform(rng_t, x_1.shape[0])\n",
    "\n",
    "    batch = (x_0, x_1, t)\n",
    "    \n",
    "    # Condition mask -> randomly condition on some data. Here you can choose between the different condition masks, and you should specify the conditionals you may want to compute afterwards.\n",
    "    condition_mask = get_random_condition_mask(rng_condition, batch_size)\n",
    "\n",
    "    # undirected_edge_mask \n",
    "    undirected_edge_mask_ = jnp.repeat(undirected_edge_mask[None,...], 3*batch_size, axis=0) # Dense default mask\n",
    "    \n",
    "    # faithfull posterior mask\n",
    "    faithfull_edge_mask_ = jnp.repeat(posterior_faithfull[None,...], 3*batch_size, axis=0) # Dense default mask\n",
    "    \n",
    "    # Include marginal consistency\n",
    "    marginal_mask = jax.vmap(marginalize, in_axes=(0,None))(jax.random.split(rng_edge_mask1, (batch_size,)), undirected_edge_mask)\n",
    "    edge_masks = jnp.concatenate([undirected_edge_mask_, faithfull_edge_mask_, marginal_mask], axis=0)\n",
    "    edge_masks = jax.random.choice(rng_edge_mask2, edge_masks, shape=(batch_size,), axis=0) # Randomly choose between dense and marginal mask\n",
    "\n",
    "\n",
    "    # Forward diffusion, do not perturb conditioned data\n",
    "    # Will use the condition mask to mask to prevent adding noise for nodes that are conditioned.\n",
    "    loss = loss_fn_cfm(vf_model, batch, node_ids=node_ids, edge_mask=edge_masks,condition_mask=condition_mask, )\n",
    "\n",
    "    return loss"
   ]
  },
  {
   "cell_type": "code",
   "execution_count": 356,
   "metadata": {},
   "outputs": [],
   "source": [
    "@nnx.jit\n",
    "def train_step(model, optimizer, rng):\n",
    "    loss_fn = lambda model: loss_fn_(model, rng)\n",
    "    loss, grads = nnx.value_and_grad(loss_fn)(model)\n",
    "    optimizer.update(grads)  # In place updates.\n",
    "    return loss"
   ]
  },
  {
   "cell_type": "code",
   "execution_count": 1,
   "metadata": {},
   "outputs": [
    {
     "ename": "NameError",
     "evalue": "name 'Simformer' is not defined",
     "output_type": "error",
     "traceback": [
      "\u001b[31m---------------------------------------------------------------------------\u001b[39m",
      "\u001b[31mNameError\u001b[39m                                 Traceback (most recent call last)",
      "\u001b[36mCell\u001b[39m\u001b[36m \u001b[39m\u001b[32mIn[1]\u001b[39m\u001b[32m, line 1\u001b[39m\n\u001b[32m----> \u001b[39m\u001b[32m1\u001b[39m vf_model = \u001b[43mSimformer\u001b[49m(\n\u001b[32m      2\u001b[39m     dim_value=dim_value,\n\u001b[32m      3\u001b[39m     dim_id=dim_id,\n\u001b[32m      4\u001b[39m     dim_condition=dim_condition,\n\u001b[32m      5\u001b[39m     dim_joint=dim_joint,\n\u001b[32m      6\u001b[39m     num_heads=num_heads,\n\u001b[32m      7\u001b[39m     dropout_rate = \u001b[32m0.01\u001b[39m,\n\u001b[32m      8\u001b[39m     transformer_features=transformer_features,\n\u001b[32m      9\u001b[39m     rngs = nnx.Rngs(\u001b[32m0\u001b[39m)\n\u001b[32m     10\u001b[39m )\n",
      "\u001b[31mNameError\u001b[39m: name 'Simformer' is not defined"
     ]
    }
   ],
   "source": [
    "vf_model = Simformer(\n",
    "    dim_value=dim_value,\n",
    "    dim_id=dim_id,\n",
    "    dim_condition=dim_condition,\n",
    "    dim_joint=dim_joint,\n",
    "    num_heads=num_heads,\n",
    "    dropout_rate = 0.01,\n",
    "    transformer_features=transformer_features,\n",
    "    rngs = nnx.Rngs(0)\n",
    ")"
   ]
  },
  {
   "cell_type": "code",
   "execution_count": 357,
   "metadata": {},
   "outputs": [
    {
     "data": {
      "text/plain": [
       "Array(0.81138647, dtype=float32)"
      ]
     },
     "execution_count": 357,
     "metadata": {},
     "output_type": "execute_result"
    }
   ],
   "source": [
    "optimizer = nnx.Optimizer(vf_model, optax.adam(1e-4))  \n",
    "train_step(vf_model, optimizer, nnx.Rngs(0).dist()) # ensure that the model is working and compile the function"
   ]
  },
  {
   "cell_type": "code",
   "execution_count": 358,
   "metadata": {},
   "outputs": [],
   "source": [
    "rngs = nnx.Rngs(0)"
   ]
  },
  {
   "cell_type": "code",
   "execution_count": null,
   "metadata": {},
   "outputs": [
    {
     "name": "stderr",
     "output_type": "stream",
     "text": [
      "  0%|          | 0/10000 [00:00<?, ?it/s]"
     ]
    }
   ],
   "source": [
    "nepochs = 2\n",
    "# schedule = optax.schedules.exponential_decay(1e-4, \n",
    "#                                              1e4, \n",
    "#                                              decay_rate = 0.2, \n",
    "#                                              transition_begin = 5000, \n",
    "#                                              end_value = 1e-6)\n",
    "\n",
    "# optimizer = nnx.Optimizer(vf_model, optax.adam(schedule))  \n",
    "optimizer = nnx.Optimizer(vf_model, optax.adam(1e-4)) \n",
    "\n",
    "\n",
    "vf_model.train()\n",
    "\n",
    "for ep in range(nepochs):\n",
    "    pbar = tqdm(range(10000))\n",
    "    l = 0\n",
    "    for j in pbar:\n",
    "        key_ = rngs.train_step()\n",
    "        loss = train_step(vf_model, optimizer, key_)\n",
    "        l += loss.item()\n",
    "        if j % 10 == 0:\n",
    "            pbar.set_postfix(loss=f\"{l/(10):.4f}\")\n",
    "            l=0\n",
    "    # print(l)\n",
    "\n",
    "\n",
    "\n",
    "vf_model.eval()"
   ]
  },
  {
   "cell_type": "markdown",
   "metadata": {},
   "source": [
    "# sample the posterior"
   ]
  },
  {
   "cell_type": "code",
   "execution_count": 321,
   "metadata": {},
   "outputs": [],
   "source": [
    "# we want to do conditional inference. We need an observation for which we want to ocmpute the posterior\n",
    "observation = jnp.array(twomoons.get_observation(1))"
   ]
  },
  {
   "cell_type": "code",
   "execution_count": null,
   "metadata": {},
   "outputs": [],
   "source": [
    "rng = jax.random.PRNGKey(45)\n",
    "T = jnp.linspace(0,1,10)  # sample times\n",
    "step_size = 0.001\n",
    "\n",
    "nsamples = 100_000 #reference_samples.shape[0]\n",
    "\n",
    "# x_init = jnp.zeros((nsamples, dim_joint))  # initial conditions\n",
    "key1,key2 = jax.random.split(rng, 2)\n",
    "x_init = p0_dist_model.sample(key1, (nsamples,))\n",
    "# noise = jnp.zeros((batch_size, dim_x)) # n, T_max, 1\n",
    "# noise = jax.random.normal(key2, (batch_size, dim_x)) # n, T_max, 1\n",
    "# x_init = jnp.concatenate([samples_prior, noise], axis=-1)\n",
    "\n",
    "\n",
    "# x_init = jax.random.normal(rng, (nsamples, dim_joint))  # initial conditions\n",
    "condition_mask = jnp.array([0,0,1,1], dtype=jnp.bool_)  # condition on the data, obtain the 2d posterior\n",
    "\n",
    "\n",
    "x_init = x_init.at[:, 2].set(observation[0,0]) # set the conditioned values\n",
    "x_init = x_init.at[:, 3].set(observation[0,1]) # set the conditioned values\n",
    "\n",
    "\n",
    "solver = ODESolver(velocity_model=vf_model)  # create an ODESolver class\n",
    "# model_extras = {\"node_ids\": jnp.array([0, 1, 2, 3]), \"edge_mask\": undirected_edge_mask}\n",
    "model_extras = {\"node_ids\": jnp.array([0, 1, 2, 3]), \"edge_mask\": posterior_faithfull}\n",
    "sampler_ = solver.get_sampler(time_grid=T, condition_mask=condition_mask, method='dopri5', step_size=step_size, return_intermediates=False, model_extras=model_extras)\n",
    "samples = sampler_(x_init)  # sample from the model\n",
    "\n",
    "# samples = dataset.unnormalize(samples)"
   ]
  },
  {
   "cell_type": "code",
   "execution_count": 329,
   "metadata": {},
   "outputs": [],
   "source": [
    "posterior_samples = samples[:,0:2]"
   ]
  },
  {
   "cell_type": "code",
   "execution_count": 330,
   "metadata": {},
   "outputs": [
    {
     "data": {
      "image/png": "[encoded data removed]",
      "text/plain": [
       "<Figure size 640x480 with 1 Axes>"
      ]
     },
     "metadata": {},
     "output_type": "display_data"
    }
   ],
   "source": [
    "plt.hist2d(posterior_samples[:,0], posterior_samples[:,1], bins=(200,200), range=[(-1, 1), (-1, 1)], density=True)\n",
    "# same ratio on axis \n",
    "# plt.scatter(reference_samples[:,0], reference_samples[:,1], s=0.1, color='red', alpha=0.1, marker='x')\n",
    "plt.gca().set_aspect('equal', adjustable='box')\n",
    "plt.xlim((-1,1))\n",
    "plt.ylim((-1,1))\n",
    "plt.show()"
   ]
  },
  {
   "cell_type": "code",
   "execution_count": 331,
   "metadata": {},
   "outputs": [],
   "source": [
    "grid_size = 200\n",
    "x_1 = jnp.meshgrid(jnp.linspace(-1, 1, grid_size), jnp.linspace(-1, 1, grid_size))\n",
    "x_1 = jnp.stack([x_1[0].flatten(), x_1[1].flatten()], axis=1)"
   ]
  },
  {
   "cell_type": "code",
   "execution_count": 336,
   "metadata": {},
   "outputs": [
    {
     "data": {
      "text/plain": [
       "(40000, 2)"
      ]
     },
     "execution_count": 336,
     "metadata": {},
     "output_type": "execute_result"
    }
   ],
   "source": [
    "x_1.shape"
   ]
  },
  {
   "cell_type": "code",
   "execution_count": 340,
   "metadata": {},
   "outputs": [
    {
     "data": {
      "text/plain": [
       "Array(0.16234657, dtype=float32)"
      ]
     },
     "execution_count": 340,
     "metadata": {},
     "output_type": "execute_result"
    }
   ],
   "source": [
    "observation[0,2]"
   ]
  },
  {
   "cell_type": "code",
   "execution_count": null,
   "metadata": {},
   "outputs": [],
   "source": [
    "# get the logprob\n",
    "logp_sampler = solver.get_unnormalized_logprob(condition_mask=condition_mask, time_grid=[1.0,0.0],method='dopri5', step_size=step_size, log_p0=p0_dist_model.log_prob, model_extras=model_extras)\n",
    "# create an y_init which has theta on the first position and x1,x2 on the second and third position\n",
    "y_init = jnp.zeros((x_1.shape[0], 4))\n",
    "y_init = y_init.at[:,0].set(x_1[:,0])\n",
    "y_init = y_init.at[:,1].set(x_1[:,1])\n",
    "y_init = y_init.at[:,2].set(observation[0,0])\n",
    "y_init = y_init.at[:,3].set(observation[0,1])\n",
    "\n",
    "_ , exact_log_p = logp_sampler(y_init)\n",
    "p = jnp.exp(exact_log_p)[-1]\n",
    "# # # normalize the distribution\n",
    "# n = jax.scipy.integrate.trapezoid(p, theta)\n",
    "# p = p/n\n"
   ]
  },
  {
   "cell_type": "code",
   "execution_count": 353,
   "metadata": {},
   "outputs": [
    {
     "data": {
      "image/png": "[encoded data removed]",
      "text/plain": [
       "<Figure size 640x480 with 2 Axes>"
      ]
     },
     "metadata": {},
     "output_type": "display_data"
    }
   ],
   "source": [
    "p_grid = p.reshape((grid_size, grid_size))\n",
    "plt.imshow(p_grid, origin='lower', aspect='auto', extent=(-1, 1, -1, 1), cmap='viridis', vmin=0, vmax=10)\n",
    "plt.scatter(posterior_samples[:100,0], posterior_samples[:100,1], alpha=1, color='red', s=2)\n",
    "plt.xlim((-1,1))\n",
    "plt.ylim((-1,1))\n",
    "plt.colorbar()\n",
    "plt.show()"
   ]
  },
  {
   "cell_type": "code",
   "execution_count": 42,
   "metadata": {},
   "outputs": [],
   "source": [
    "# convert posterior samples to a torch array\n",
    "import torch\n",
    "posterior_samples_torch = torch.tensor(np.array(posterior_samples))"
   ]
  },
  {
   "cell_type": "code",
   "execution_count": 43,
   "metadata": {},
   "outputs": [],
   "source": [
    "c2st_accuracy = c2st(reference_samples, posterior_samples_torch)"
   ]
  },
  {
   "cell_type": "code",
   "execution_count": 44,
   "metadata": {},
   "outputs": [
    {
     "data": {
      "text/plain": [
       "tensor([0.9091])"
      ]
     },
     "execution_count": 44,
     "metadata": {},
     "output_type": "execute_result"
    }
   ],
   "source": [
    "c2st_accuracy"
   ]
  },
  {
   "cell_type": "code",
   "execution_count": null,
   "metadata": {},
   "outputs": [],
   "source": []
  }
 ],
 "metadata": {
  "kernelspec": {
   "display_name": "cfm",
   "language": "python",
   "name": "python3"
  },
  "language_info": {
   "codemirror_mode": {
    "name": "ipython",
    "version": 3
   },
   "file_extension": ".py",
   "mimetype": "text/x-python",
   "name": "python",
   "nbconvert_exporter": "python",
   "pygments_lexer": "ipython3",
   "version": "3.12.10"
  }
 },
 "nbformat": 4,
 "nbformat_minor": 2
}
