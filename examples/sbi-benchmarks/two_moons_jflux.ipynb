{
 "cells": [
  {
   "cell_type": "code",
   "execution_count": 1,
   "metadata": {},
   "outputs": [],
   "source": [
    "# load autoreload extension\n",
    "%load_ext autoreload\n",
    "%autoreload 2"
   ]
  },
  {
   "cell_type": "code",
   "execution_count": 2,
   "metadata": {},
   "outputs": [],
   "source": [
    "import os\n",
    "os.environ['JAX_PLATFORMS']=\"cpu\"\n",
    "# os.environ['JAX_PLATFORMS']=\"cuda\""
   ]
  },
  {
   "cell_type": "code",
   "execution_count": 3,
   "metadata": {},
   "outputs": [
    {
     "name": "stderr",
     "output_type": "stream",
     "text": [
      "/lhome/ific/a/aamerio/miniforge3/envs/cfm/lib/python3.12/site-packages/tqdm/auto.py:21: TqdmWarning: IProgress not found. Please update jupyter and ipywidgets. See https://ipywidgets.readthedocs.io/en/stable/user_install.html\n",
      "  from .autonotebook import tqdm as notebook_tqdm\n"
     ]
    }
   ],
   "source": [
    "import matplotlib.pyplot as plt\n",
    "import jax\n",
    "import jax.numpy as jnp\n",
    "import optax\n",
    "\n",
    "import numpy as np\n",
    "\n",
    "from tqdm.auto import tqdm\n",
    "\n",
    "from functools import partial\n",
    "\n",
    "from flax import nnx"
   ]
  },
  {
   "cell_type": "code",
   "execution_count": 4,
   "metadata": {},
   "outputs": [],
   "source": [
    "import sys \n",
    "sys.path.append(\"examples/sbi-benchmarks\")\n",
    "sys.path.append(\"src/\")"
   ]
  },
  {
   "cell_type": "code",
   "execution_count": 5,
   "metadata": {},
   "outputs": [],
   "source": [
    "import sbibm\n",
    "from utils.sbi_tasks import TwoMoons\n",
    "\n",
    "from sbi_utils.flux1_model.model import FluxParams, Flux\n",
    "\n",
    "from flow_matching.path.scheduler import CondOTScheduler\n",
    "from flow_matching.path import AffineProbPath\n",
    "from flow_matching.solver import ODESolver\n",
    "from flow_matching.loss import ContinuousFMLoss\n",
    "\n",
    "from flow_matching.utils import ModelWrapper"
   ]
  },
  {
   "cell_type": "code",
   "execution_count": 6,
   "metadata": {},
   "outputs": [],
   "source": [
    "twomoons = TwoMoons()\n",
    "task = twomoons.task\n",
    "prior = twomoons.get_prior()\n",
    "simulator = twomoons.get_simulator()\n",
    "observation = twomoons.get_observation(1)\n",
    "\n",
    "theta = prior.sample((10_000,))\n",
    "xs = simulator(theta)"
   ]
  },
  {
   "cell_type": "code",
   "execution_count": 7,
   "metadata": {},
   "outputs": [],
   "source": [
    "@partial(jax.jit, static_argnames=[\"size\"])\n",
    "def sample_prior(size):\n",
    "    return jnp.array(prior.sample((size,)))"
   ]
  },
  {
   "cell_type": "code",
   "execution_count": 8,
   "metadata": {},
   "outputs": [
    {
     "data": {
      "image/png": "[encoded data removed]",
      "text/plain": [
       "<Figure size 640x480 with 1 Axes>"
      ]
     },
     "metadata": {},
     "output_type": "display_data"
    }
   ],
   "source": [
    "plt.hist2d(xs[:,0],xs[:,1], bins=50, density=True)\n",
    "plt.show()"
   ]
  },
  {
   "cell_type": "code",
   "execution_count": 9,
   "metadata": {},
   "outputs": [
    {
     "name": "stderr",
     "output_type": "stream",
     "text": [
      "Running REJ-ABC\n",
      "Running 100000 simulations.: 100%|██████████| 100000/100000 [00:00<00:00, 1254814.11it/s]\n",
      "/lhome/ific/a/aamerio/miniforge3/envs/cfm/lib/python3.12/site-packages/sklearn/model_selection/_validation.py:528: FitFailedWarning: \n",
      "100 fits failed out of a total of 200.\n",
      "The score on these train-test partitions for these parameters will be set to nan.\n",
      "If these failures are not expected, you can try to debug them by setting error_score='raise'.\n",
      "\n",
      "Below are more details about the failures:\n",
      "--------------------------------------------------------------------------------\n",
      "20 fits failed with the following error:\n",
      "Traceback (most recent call last):\n",
      "  File \"/lhome/ific/a/aamerio/miniforge3/envs/cfm/lib/python3.12/site-packages/sklearn/model_selection/_validation.py\", line 864, in _fit_and_score\n",
      "    estimator.fit(X_train, **fit_params)\n",
      "  File \"/lhome/ific/a/aamerio/miniforge3/envs/cfm/lib/python3.12/site-packages/sklearn/base.py\", line 1382, in wrapper\n",
      "    estimator._validate_params()\n",
      "  File \"/lhome/ific/a/aamerio/miniforge3/envs/cfm/lib/python3.12/site-packages/sklearn/base.py\", line 436, in _validate_params\n",
      "    validate_parameter_constraints(\n",
      "  File \"/lhome/ific/a/aamerio/miniforge3/envs/cfm/lib/python3.12/site-packages/sklearn/utils/_param_validation.py\", line 98, in validate_parameter_constraints\n",
      "    raise InvalidParameterError(\n",
      "sklearn.utils._param_validation.InvalidParameterError: The 'bandwidth' parameter of KernelDensity must be a float in the range (0.0, inf) or a str among {'silverman', 'scott'}. Got np.float64(-0.0030323842333422786) instead.\n",
      "\n",
      "--------------------------------------------------------------------------------\n",
      "20 fits failed with the following error:\n",
      "Traceback (most recent call last):\n",
      "  File \"/lhome/ific/a/aamerio/miniforge3/envs/cfm/lib/python3.12/site-packages/sklearn/model_selection/_validation.py\", line 864, in _fit_and_score\n",
      "    estimator.fit(X_train, **fit_params)\n",
      "  File \"/lhome/ific/a/aamerio/miniforge3/envs/cfm/lib/python3.12/site-packages/sklearn/base.py\", line 1382, in wrapper\n",
      "    estimator._validate_params()\n",
      "  File \"/lhome/ific/a/aamerio/miniforge3/envs/cfm/lib/python3.12/site-packages/sklearn/base.py\", line 436, in _validate_params\n",
      "    validate_parameter_constraints(\n",
      "  File \"/lhome/ific/a/aamerio/miniforge3/envs/cfm/lib/python3.12/site-packages/sklearn/utils/_param_validation.py\", line 98, in validate_parameter_constraints\n",
      "    raise InvalidParameterError(\n",
      "sklearn.utils._param_validation.InvalidParameterError: The 'bandwidth' parameter of KernelDensity must be a float in the range (0.0, inf) or a str among {'silverman', 'scott'}. Got np.float64(-0.009097152700026832) instead.\n",
      "\n",
      "--------------------------------------------------------------------------------\n",
      "20 fits failed with the following error:\n",
      "Traceback (most recent call last):\n",
      "  File \"/lhome/ific/a/aamerio/miniforge3/envs/cfm/lib/python3.12/site-packages/sklearn/model_selection/_validation.py\", line 864, in _fit_and_score\n",
      "    estimator.fit(X_train, **fit_params)\n",
      "  File \"/lhome/ific/a/aamerio/miniforge3/envs/cfm/lib/python3.12/site-packages/sklearn/base.py\", line 1382, in wrapper\n",
      "    estimator._validate_params()\n",
      "  File \"/lhome/ific/a/aamerio/miniforge3/envs/cfm/lib/python3.12/site-packages/sklearn/base.py\", line 436, in _validate_params\n",
      "    validate_parameter_constraints(\n",
      "  File \"/lhome/ific/a/aamerio/miniforge3/envs/cfm/lib/python3.12/site-packages/sklearn/utils/_param_validation.py\", line 98, in validate_parameter_constraints\n",
      "    raise InvalidParameterError(\n",
      "sklearn.utils._param_validation.InvalidParameterError: The 'bandwidth' parameter of KernelDensity must be a float in the range (0.0, inf) or a str among {'silverman', 'scott'}. Got np.float64(-0.01516192116671139) instead.\n",
      "\n",
      "--------------------------------------------------------------------------------\n",
      "20 fits failed with the following error:\n",
      "Traceback (most recent call last):\n",
      "  File \"/lhome/ific/a/aamerio/miniforge3/envs/cfm/lib/python3.12/site-packages/sklearn/model_selection/_validation.py\", line 864, in _fit_and_score\n",
      "    estimator.fit(X_train, **fit_params)\n",
      "  File \"/lhome/ific/a/aamerio/miniforge3/envs/cfm/lib/python3.12/site-packages/sklearn/base.py\", line 1382, in wrapper\n",
      "    estimator._validate_params()\n",
      "  File \"/lhome/ific/a/aamerio/miniforge3/envs/cfm/lib/python3.12/site-packages/sklearn/base.py\", line 436, in _validate_params\n",
      "    validate_parameter_constraints(\n",
      "  File \"/lhome/ific/a/aamerio/miniforge3/envs/cfm/lib/python3.12/site-packages/sklearn/utils/_param_validation.py\", line 98, in validate_parameter_constraints\n",
      "    raise InvalidParameterError(\n",
      "sklearn.utils._param_validation.InvalidParameterError: The 'bandwidth' parameter of KernelDensity must be a float in the range (0.0, inf) or a str among {'silverman', 'scott'}. Got np.float64(-0.02122668963339594) instead.\n",
      "\n",
      "--------------------------------------------------------------------------------\n",
      "20 fits failed with the following error:\n",
      "Traceback (most recent call last):\n",
      "  File \"/lhome/ific/a/aamerio/miniforge3/envs/cfm/lib/python3.12/site-packages/sklearn/model_selection/_validation.py\", line 864, in _fit_and_score\n",
      "    estimator.fit(X_train, **fit_params)\n",
      "  File \"/lhome/ific/a/aamerio/miniforge3/envs/cfm/lib/python3.12/site-packages/sklearn/base.py\", line 1382, in wrapper\n",
      "    estimator._validate_params()\n",
      "  File \"/lhome/ific/a/aamerio/miniforge3/envs/cfm/lib/python3.12/site-packages/sklearn/base.py\", line 436, in _validate_params\n",
      "    validate_parameter_constraints(\n",
      "  File \"/lhome/ific/a/aamerio/miniforge3/envs/cfm/lib/python3.12/site-packages/sklearn/utils/_param_validation.py\", line 98, in validate_parameter_constraints\n",
      "    raise InvalidParameterError(\n",
      "sklearn.utils._param_validation.InvalidParameterError: The 'bandwidth' parameter of KernelDensity must be a float in the range (0.0, inf) or a str among {'silverman', 'scott'}. Got np.float64(-0.02729145810008049) instead.\n",
      "\n",
      "  warnings.warn(some_fits_failed_message, FitFailedWarning)\n",
      "/lhome/ific/a/aamerio/miniforge3/envs/cfm/lib/python3.12/site-packages/sklearn/model_selection/_search.py:1108: UserWarning: One or more of the test scores are non-finite: [ 13.73971202  14.29391043  14.61294537  13.76195297 -14.47817149\n",
      "          nan          nan          nan          nan          nan]\n",
      "  warnings.warn(\n"
     ]
    }
   ],
   "source": [
    "from sbibm.algorithms import rej_abc  # See help(rej_abc) for keywords\n",
    "posterior_samples, _, _ = rej_abc(task=task, num_samples=10_000, num_observation=1, num_simulations=100_000)\n"
   ]
  },
  {
   "cell_type": "code",
   "execution_count": 10,
   "metadata": {},
   "outputs": [
    {
     "data": {
      "image/png": "[encoded data removed]",
      "text/plain": [
       "<Figure size 640x480 with 1 Axes>"
      ]
     },
     "metadata": {},
     "output_type": "display_data"
    }
   ],
   "source": [
    "plt.hist2d(posterior_samples[:, 0], posterior_samples[:, 1], bins=(200,200), range=[(-1, 1), (-1, 1)], density=True)\n",
    "plt.xlim((-1,1))\n",
    "plt.ylim((-1,1))\n",
    "plt.gca().set_aspect('equal', adjustable='box')\n",
    "plt.show()"
   ]
  },
  {
   "cell_type": "code",
   "execution_count": 11,
   "metadata": {},
   "outputs": [],
   "source": [
    "# Once we got samples from an approximate posterior, compare them to the reference:\n",
    "from sbibm.metrics import c2st\n",
    "reference_samples = task.get_reference_posterior_samples(num_observation=1)"
   ]
  },
  {
   "cell_type": "code",
   "execution_count": 12,
   "metadata": {},
   "outputs": [
    {
     "data": {
      "image/png": "[encoded data removed]",
      "text/plain": [
       "<Figure size 640x480 with 1 Axes>"
      ]
     },
     "metadata": {},
     "output_type": "display_data"
    }
   ],
   "source": [
    "plt.hist2d(reference_samples[:, 0], reference_samples[:, 1], bins=(200,200), range=[(-1, 1), (-1, 1)], density=True)\n",
    "plt.xlim((-1,1))\n",
    "plt.ylim((-1,1))\n",
    "plt.gca().set_aspect('equal', adjustable='box')\n",
    "plt.show()"
   ]
  },
  {
   "cell_type": "code",
   "execution_count": 13,
   "metadata": {},
   "outputs": [],
   "source": [
    "# c2st_accuracy = c2st(reference_samples, posterior_samples)"
   ]
  },
  {
   "cell_type": "code",
   "execution_count": 14,
   "metadata": {},
   "outputs": [],
   "source": [
    "# c2st_accuracy # around 0.6"
   ]
  },
  {
   "cell_type": "markdown",
   "metadata": {},
   "source": [
    "# dataset"
   ]
  },
  {
   "cell_type": "code",
   "execution_count": 15,
   "metadata": {},
   "outputs": [],
   "source": [
    "# make a dataset\n",
    "nsamples = int(1e5)\n",
    "theta = prior.sample((nsamples,))\n",
    "xs = jnp.array(simulator(theta))\n",
    "node_ids = jnp.array(twomoons.get_node_id())\n",
    "dim_theta = twomoons.get_theta_dim()\n",
    "dim_x = twomoons.get_x_dim()\n",
    "\n",
    "# turn them into jax arrays\n",
    "theta = jnp.array(theta)\n",
    "xs = jnp.array(xs)\n",
    "\n",
    "# concatenate the data, theta and xs\n",
    "data = jnp.concatenate((theta, xs), axis=-1)\n",
    "\n",
    "val_perc = 0.05\n",
    "\n",
    "train_size = int(nsamples * (1 - val_perc)) \n",
    "\n",
    "train_data = data[:train_size]\n",
    "val_data = data[train_size:]\n"
   ]
  },
  {
   "cell_type": "code",
   "execution_count": 16,
   "metadata": {},
   "outputs": [],
   "source": [
    "# make an infinite dataloader that shuffles the data once it finishes cycling it\n",
    "class InfiniteDataLoader:\n",
    "    def __init__(self, data, batch_size, *, rngs: nnx.Rngs):\n",
    "        self.data = data\n",
    "        self.batch_size = batch_size\n",
    "        self.index = 0\n",
    "        self.rngs = rngs\n",
    "\n",
    "        self.data_mean = jnp.mean(data, axis=0)\n",
    "        self.data_std = jnp.std(data, axis=0)\n",
    "\n",
    "        # self.data = self.normalize(self.data)\n",
    "\n",
    "    def normalize(self, unnormalized_data):\n",
    "        # Normalize the data to be between 0 mean and unit varainve\n",
    "        data = unnormalized_data - self.data_mean\n",
    "        data = data / self.data_std\n",
    "\n",
    "        return data\n",
    "\n",
    "    def unnormalize(self, normdata):\n",
    "        # Unnormalize the data\n",
    "        data = normdata * self.data_std\n",
    "        data = data + self.data_mean\n",
    "        return data\n",
    "\n",
    "    def __iter__(self):\n",
    "        return self\n",
    "\n",
    "    def __next__(self):\n",
    "        if self.index >= len(self.data):\n",
    "            self._shuffle()\n",
    "        batch = self.data[self.index : self.index + self.batch_size]\n",
    "        self.index += self.batch_size\n",
    "        return batch\n",
    "\n",
    "    def __len__(self):\n",
    "        return len(self.data) // self.batch_size\n",
    "\n",
    "    def __getitem__(self, index):\n",
    "        return self.data[index]\n",
    "\n",
    "    def _shuffle(self):\n",
    "        self.data = jax.random.permutation(self.rngs.perm(), self.data)\n",
    "        self.index = 0"
   ]
  },
  {
   "cell_type": "code",
   "execution_count": 17,
   "metadata": {},
   "outputs": [],
   "source": [
    "batch_size = 1024\n",
    "dataset = InfiniteDataLoader(train_data, batch_size, rngs=nnx.Rngs(0))"
   ]
  },
  {
   "cell_type": "markdown",
   "metadata": {},
   "source": [
    "# define the CFM model"
   ]
  },
  {
   "cell_type": "code",
   "execution_count": 18,
   "metadata": {},
   "outputs": [],
   "source": [
    "path = AffineProbPath(scheduler=CondOTScheduler()) # define the probability path"
   ]
  },
  {
   "cell_type": "code",
   "execution_count": 19,
   "metadata": {},
   "outputs": [],
   "source": [
    "params=FluxParams(\n",
    "            in_channels=1,\n",
    "            vec_in_dim=None,\n",
    "            context_in_dim=1,\n",
    "            hidden_size=32,\n",
    "            mlp_ratio=4.0,\n",
    "            num_heads=8,\n",
    "            depth=6,\n",
    "            depth_single_blocks=2,\n",
    "            axes_dim=[4,],\n",
    "            theta=1_000,\n",
    "            qkv_bias=True,\n",
    "            guidance_embed=False,\n",
    "            rngs=nnx.Rngs(default=42),\n",
    "            param_dtype=jnp.bfloat16,\n",
    "        )"
   ]
  },
  {
   "cell_type": "code",
   "execution_count": 20,
   "metadata": {},
   "outputs": [],
   "source": [
    "vf_model = Flux(params)"
   ]
  },
  {
   "cell_type": "code",
   "execution_count": 21,
   "metadata": {},
   "outputs": [],
   "source": [
    "# loss_fn_cfm = ContinuousFMLoss(path)"
   ]
  },
  {
   "cell_type": "code",
   "execution_count": 22,
   "metadata": {},
   "outputs": [],
   "source": [
    "def loss_fn_cfm(vf, path, obs, cond, obs_ids, cond_ids, key):\n",
    "    key1, key2 = jax.random.split(key, 2)\n",
    "\n",
    "    x_1 = obs\n",
    "    x_0 = jax.random.normal(key1, x_1.shape)\n",
    "    t = jax.random.uniform(key2, x_1.shape[0])\n",
    "\n",
    "    path_sample = path.sample(x_0, x_1, t)\n",
    "\n",
    "    x_t = path_sample.x_t\n",
    "\n",
    "    model_output = vf(x_t, obs_ids, cond, cond_ids, t)\n",
    "    \n",
    "    loss = model_output - path_sample.dx_t\n",
    "\n",
    "    return jnp.mean(jnp.square(loss))"
   ]
  },
  {
   "cell_type": "code",
   "execution_count": 23,
   "metadata": {},
   "outputs": [],
   "source": [
    "test_data = val_data\n",
    "obs = test_data[:,:2][...,None]\n",
    "cond = test_data[:,2:][...,None]\n",
    "\n",
    "obs_ids = jnp.arange(2, dtype=jnp.int32).reshape(1,-1,1)\n",
    "cond_ids = jnp.arange(2, dtype=jnp.int32).reshape(1,-1,1)"
   ]
  },
  {
   "cell_type": "code",
   "execution_count": 24,
   "metadata": {},
   "outputs": [
    {
     "data": {
      "text/plain": [
       "Array(2.522613, dtype=float32)"
      ]
     },
     "execution_count": 24,
     "metadata": {},
     "output_type": "execute_result"
    }
   ],
   "source": [
    "loss_fn_cfm(vf_model, path, obs, cond, obs_ids, cond_ids, jax.random.PRNGKey(0))"
   ]
  },
  {
   "cell_type": "code",
   "execution_count": 25,
   "metadata": {},
   "outputs": [],
   "source": [
    "from numpyro import distributions as dist\n",
    "\n",
    "p0_dist_model = dist.Independent(\n",
    "    dist.Normal(loc=jnp.zeros((4,)), scale=jnp.ones((4,))),\n",
    "    reinterpreted_batch_ndims=1\n",
    ")"
   ]
  },
  {
   "cell_type": "code",
   "execution_count": 26,
   "metadata": {},
   "outputs": [],
   "source": [
    "def loss_fn_(vf_model, key: jax.random.PRNGKey):\n",
    "    batch = next(dataset)\n",
    "    obs = batch[:,:2][...,None]\n",
    "    cond = batch[:,2:][...,None]\n",
    "\n",
    "    obs_ids = jnp.arange(2, dtype=jnp.int32).reshape(1,-1,1)\n",
    "    cond_ids = jnp.arange(2, dtype=jnp.int32).reshape(1,-1,1)\n",
    "\n",
    "    loss=loss_fn_cfm(vf_model, path, obs, cond, obs_ids, cond_ids, key)\n",
    "    return loss\n",
    "\n",
    "def val_loss(vf_model, key: jax.random.PRNGKey):\n",
    "    batch = val_data\n",
    "    obs = batch[:,:2][...,None]\n",
    "    cond = batch[:,2:][...,None]\n",
    "\n",
    "    obs_ids = jnp.arange(2, dtype=jnp.int32).reshape(1,-1,1)\n",
    "    cond_ids = jnp.arange(2, dtype=jnp.int32).reshape(1,-1,1)\n",
    "\n",
    "    loss=loss_fn_cfm(vf_model, path, obs, cond, obs_ids, cond_ids, key)\n",
    "    return loss"
   ]
  },
  {
   "cell_type": "code",
   "execution_count": 27,
   "metadata": {},
   "outputs": [],
   "source": [
    "@nnx.jit\n",
    "def train_step(model, optimizer, rng):\n",
    "    loss_fn = lambda model: loss_fn_(model, rng)\n",
    "    loss, grads = nnx.value_and_grad(loss_fn)(model)\n",
    "    optimizer.update(grads)  # In place updates.\n",
    "    return loss"
   ]
  },
  {
   "cell_type": "code",
   "execution_count": 28,
   "metadata": {},
   "outputs": [
    {
     "data": {
      "text/plain": [
       "Array(2.423784, dtype=float32)"
      ]
     },
     "execution_count": 28,
     "metadata": {},
     "output_type": "execute_result"
    }
   ],
   "source": [
    "optimizer = nnx.Optimizer(vf_model, optax.adam(1e-4))  \n",
    "train_step(vf_model, optimizer, nnx.Rngs(0).dist()) # ensure that the model is working and compile the function"
   ]
  },
  {
   "cell_type": "code",
   "execution_count": 29,
   "metadata": {},
   "outputs": [],
   "source": [
    "rngs = nnx.Rngs(0)"
   ]
  },
  {
   "cell_type": "code",
   "execution_count": 104,
   "metadata": {},
   "outputs": [
    {
     "name": "stderr",
     "output_type": "stream",
     "text": [
      "100%|██████████| 10000/10000 [06:09<00:00, 27.09it/s, counter=22, loss=0.5264, val_loss=0.1672]\n",
      " 56%|█████▌    | 5601/10000 [03:12<02:31, 29.06it/s, counter=51, loss=0.5225, val_loss=0.1644]\n"
     ]
    },
    {
     "name": "stdout",
     "output_type": "stream",
     "text": [
      "Early stopping\n"
     ]
    },
    {
     "name": "stderr",
     "output_type": "stream",
     "text": [
      "  0%|          | 0/10000 [00:00<?, ?it/s]\n"
     ]
    },
    {
     "name": "stdout",
     "output_type": "stream",
     "text": [
      "Early stopping\n"
     ]
    },
    {
     "name": "stderr",
     "output_type": "stream",
     "text": [
      "  0%|          | 0/10000 [00:00<?, ?it/s]\n"
     ]
    },
    {
     "name": "stdout",
     "output_type": "stream",
     "text": [
      "Early stopping\n"
     ]
    },
    {
     "name": "stderr",
     "output_type": "stream",
     "text": [
      "  0%|          | 0/10000 [00:00<?, ?it/s]"
     ]
    },
    {
     "name": "stdout",
     "output_type": "stream",
     "text": [
      "Early stopping\n"
     ]
    },
    {
     "name": "stderr",
     "output_type": "stream",
     "text": [
      "\n"
     ]
    }
   ],
   "source": [
    "best_state = nnx.state(vf_model)\n",
    "val_loss_value = val_loss(vf_model, jax.random.PRNGKey(0))\n",
    "counter = 0\n",
    "cmax = 50\n",
    "print_every = 100\n",
    "\n",
    "\n",
    "nepochs = 5\n",
    "schedule = optax.schedules.exponential_decay(1e-3, \n",
    "                                             1e6, \n",
    "                                             decay_rate = 0.2, \n",
    "                                             transition_begin = 2000, \n",
    "                                             end_value = 1e-6)\n",
    "\n",
    "# optimizer = nnx.Optimizer(vf_model, optax.adam(schedule))  \n",
    "optimizer = nnx.Optimizer(vf_model, optax.adam(1e-4)) \n",
    "\n",
    "\n",
    "vf_model.train()\n",
    "\n",
    "for ep in range(nepochs):\n",
    "    pbar = tqdm(range(10000))\n",
    "    l = 0\n",
    "    for j in pbar:\n",
    "        if counter > cmax:\n",
    "            print(\"Early stopping\")\n",
    "            # restore the model state\n",
    "            graphdef, abstract_state = nnx.split(vf_model)\n",
    "\n",
    "            vf_model = nnx.merge(graphdef, best_state)\n",
    "            break\n",
    "        \n",
    "        key_ = rngs.train_step()\n",
    "        loss = train_step(vf_model, optimizer, key_)\n",
    "        l += loss.item()\n",
    "        if j % 100 == 0:\n",
    "            val_ = val_loss(vf_model, rngs.val_step())\n",
    "            if val_ < val_loss_value:\n",
    "                val_loss_value = val_\n",
    "                counter = 0\n",
    "                best_state = nnx.state(vf_model)\n",
    "            else:\n",
    "                counter += 1\n",
    "            pbar.set_postfix(loss=f\"{l/(100):.4f}\", val_loss=f\"{val_:.4f}\", counter=counter)\n",
    "            l=0\n",
    "    # print(l)\n",
    "\n",
    "\n",
    "\n",
    "vf_model.eval()"
   ]
  },
  {
   "cell_type": "markdown",
   "metadata": {},
   "source": [
    "# model wrapper"
   ]
  },
  {
   "cell_type": "code",
   "execution_count": 83,
   "metadata": {},
   "outputs": [],
   "source": [
    "from einops import rearrange\n",
    "\n",
    "class FluxWrapper(ModelWrapper):\n",
    "    def __init__(self, model):\n",
    "        super().__init__(model)\n",
    "\n",
    "    def __call__(self, x, t, args, **kwargs):\n",
    "        x = jnp.atleast_1d(x)\n",
    "        t = jnp.atleast_1d(t)\n",
    "\n",
    "        if x.ndim < 3:\n",
    "            x = rearrange(x, '... -> 1 ... 1' if x.ndim == 1 else '... -> ... 1')\n",
    "        # t = t.reshape(-1,1, 1)\n",
    "        return jnp.squeeze(self.model(obs=x, timesteps=t, **kwargs), axis=-1)"
   ]
  },
  {
   "cell_type": "markdown",
   "metadata": {},
   "source": [
    "# sample the posterior"
   ]
  },
  {
   "cell_type": "code",
   "execution_count": 34,
   "metadata": {},
   "outputs": [],
   "source": [
    "# we want to do conditional inference. We need an observation for which we want to ocmpute the posterior\n",
    "observation = jnp.array(twomoons.get_observation(1))"
   ]
  },
  {
   "cell_type": "code",
   "execution_count": 35,
   "metadata": {},
   "outputs": [
    {
     "data": {
      "text/plain": [
       "(1, 2)"
      ]
     },
     "execution_count": 35,
     "metadata": {},
     "output_type": "execute_result"
    }
   ],
   "source": [
    "observation.shape"
   ]
  },
  {
   "cell_type": "code",
   "execution_count": 79,
   "metadata": {},
   "outputs": [],
   "source": [
    "rng = jax.random.PRNGKey(45)\n",
    "T = jnp.linspace(0,1,10)  # sample times\n",
    "step_size = 0.001\n",
    "\n",
    "nsamples = 1_000 #reference_samples.shape[0]\n",
    "\n",
    "# x_init = jnp.zeros((nsamples, dim_joint))  # initial conditions\n",
    "key1,key2 = jax.random.split(rng, 2)\n",
    "\n",
    "x_init = jax.random.normal(key1,(nsamples, dim_x)) # n, T_max, 1\n",
    "cond = jnp.broadcast_to(observation[...,None], (nsamples, dim_theta, 1)) # n, dim_theta, 1\n"
   ]
  },
  {
   "cell_type": "code",
   "execution_count": null,
   "metadata": {},
   "outputs": [
    {
     "ename": "ValueError",
     "evalue": "Input obs and cond tensors must have 3 dimensions.",
     "output_type": "error",
     "traceback": [
      "\u001b[31m---------------------------------------------------------------------------\u001b[39m",
      "\u001b[31mValueError\u001b[39m                                Traceback (most recent call last)",
      "\u001b[36mCell\u001b[39m\u001b[36m \u001b[39m\u001b[32mIn[80]\u001b[39m\u001b[32m, line 1\u001b[39m\n\u001b[32m----> \u001b[39m\u001b[32m1\u001b[39m \u001b[43mvf_model\u001b[49m\u001b[43m(\u001b[49m\u001b[43mx_init\u001b[49m\u001b[43m,\u001b[49m\u001b[43m \u001b[49m\u001b[43mobs_ids\u001b[49m\u001b[43m,\u001b[49m\u001b[43m \u001b[49m\u001b[43mcond\u001b[49m\u001b[43m,\u001b[49m\u001b[43m \u001b[49m\u001b[43mcond_ids\u001b[49m\u001b[43m,\u001b[49m\u001b[43m \u001b[49m\u001b[43mjnp\u001b[49m\u001b[43m.\u001b[49m\u001b[43marray\u001b[49m\u001b[43m(\u001b[49m\u001b[43m[\u001b[49m\u001b[32;43m1.0\u001b[39;49m\u001b[43m]\u001b[49m\u001b[43m)\u001b[49m\u001b[43m)\u001b[49m.shape\n",
      "\u001b[36mFile \u001b[39m\u001b[32m~/github/cfm-jax/src/sbi_utils/flux1_model/model.py:137\u001b[39m, in \u001b[36mFlux.__call__\u001b[39m\u001b[34m(self, obs, obs_ids, cond, cond_ids, timesteps, guidance)\u001b[39m\n\u001b[32m    127\u001b[39m \u001b[38;5;28;01mdef\u001b[39;00m\u001b[38;5;250m \u001b[39m\u001b[34m__call__\u001b[39m(\n\u001b[32m    128\u001b[39m     \u001b[38;5;28mself\u001b[39m,\n\u001b[32m    129\u001b[39m     obs: Array,\n\u001b[32m   (...)\u001b[39m\u001b[32m    134\u001b[39m     guidance: Array | \u001b[38;5;28;01mNone\u001b[39;00m = \u001b[38;5;28;01mNone\u001b[39;00m,\n\u001b[32m    135\u001b[39m ) -> Array:\n\u001b[32m    136\u001b[39m     \u001b[38;5;28;01mif\u001b[39;00m obs.ndim != \u001b[32m3\u001b[39m \u001b[38;5;129;01mor\u001b[39;00m cond.ndim != \u001b[32m3\u001b[39m:\n\u001b[32m--> \u001b[39m\u001b[32m137\u001b[39m         \u001b[38;5;28;01mraise\u001b[39;00m \u001b[38;5;167;01mValueError\u001b[39;00m(\u001b[33m\"\u001b[39m\u001b[33mInput obs and cond tensors must have 3 dimensions.\u001b[39m\u001b[33m\"\u001b[39m)\n\u001b[32m    139\u001b[39m     \u001b[38;5;66;03m# running on sequences obs\u001b[39;00m\n\u001b[32m    140\u001b[39m     obs = \u001b[38;5;28mself\u001b[39m.obs_in(obs)\n",
      "\u001b[31mValueError\u001b[39m: Input obs and cond tensors must have 3 dimensions."
     ]
    }
   ],
   "source": [
    "vf_model(x_init[...,None], obs_ids, cond, cond_ids, jnp.array([1.0])).shape"
   ]
  },
  {
   "cell_type": "code",
   "execution_count": 81,
   "metadata": {},
   "outputs": [],
   "source": [
    "vf_wrapped = FluxWrapper(vf_model)"
   ]
  },
  {
   "cell_type": "code",
   "execution_count": 84,
   "metadata": {},
   "outputs": [
    {
     "data": {
      "text/plain": [
       "(1000, 2)"
      ]
     },
     "execution_count": 84,
     "metadata": {},
     "output_type": "execute_result"
    }
   ],
   "source": [
    "model_extras = {\"cond\": cond, \"obs_ids\": obs_ids, \"cond_ids\": cond_ids}\n",
    "vf_wrapped(x_init, jnp.array([1.0]), None, **model_extras).shape"
   ]
  },
  {
   "cell_type": "code",
   "execution_count": 85,
   "metadata": {},
   "outputs": [],
   "source": [
    "cond_ids = jnp.arange(dim_theta, dtype=jnp.int32).reshape(1,-1,1)\n",
    "obs_ids = jnp.arange(dim_x, dtype=jnp.int32).reshape(1,-1,1)"
   ]
  },
  {
   "cell_type": "code",
   "execution_count": null,
   "metadata": {},
   "outputs": [],
   "source": [
    "solver = ODESolver(velocity_model=vf_wrapped)  # create an ODESolver class\n",
    "# model_extras = {\"node_ids\": jnp.array([0, 1, 2, 3]), \"edge_mask\": undirected_edge_mask}\n",
    "model_extras = {\"cond\": cond, \"obs_ids\": obs_ids, \"cond_ids\": cond_ids}\n",
    "\n",
    "sampler_ = solver.get_sampler(time_grid=T, method='dopri5', step_size=step_size, return_intermediates=False, model_extras=model_extras)\n",
    "samples = sampler_(x_init)  # sample from the model\n",
    "\n",
    "# sampler_ = solver.get_sampler(time_grid=T, condition_mask=condition_mask, method='dopri5', step_size=step_size, return_intermediates=False, model_extras=model_extras)\n",
    "# samples = sampler_(x_init)  # sample from the model\n",
    "\n",
    "# samples = dataset.unnormalize(samples)"
   ]
  },
  {
   "cell_type": "code",
   "execution_count": 71,
   "metadata": {},
   "outputs": [],
   "source": [
    "rng = jax.random.PRNGKey(45)\n",
    "T = jnp.linspace(0,1,10)  # sample times\n",
    "step_size = 0.001\n",
    "\n",
    "nsamples = 100_000 #reference_samples.shape[0]\n",
    "\n",
    "# x_init = jnp.zeros((nsamples, dim_joint))  # initial conditions\n",
    "key1,key2 = jax.random.split(rng, 2)\n",
    "x_init = p0_dist_model.sample(key1, (nsamples,))\n",
    "# noise = jnp.zeros((batch_size, dim_x)) # n, T_max, 1\n",
    "# noise = jax.random.normal(key2, (batch_size, dim_x)) # n, T_max, 1\n",
    "# x_init = jnp.concatenate([samples_prior, noise], axis=-1)\n",
    "\n",
    "\n",
    "# x_init = jax.random.normal(rng, (nsamples, dim_joint))  # initial conditions\n",
    "condition_mask = jnp.array([0,0,1,1], dtype=jnp.bool_)  # condition on the data, obtain the 2d posterior\n",
    "\n",
    "\n",
    "x_init = x_init.at[:, 2].set(observation[0,0]) # set the conditioned values\n",
    "x_init = x_init.at[:, 3].set(observation[0,1]) # set the conditioned values\n",
    "\n",
    "\n",
    "solver = ODESolver(velocity_model=vf_model)  # create an ODESolver class\n",
    "# model_extras = {\"node_ids\": jnp.array([0, 1, 2, 3]), \"edge_mask\": undirected_edge_mask}\n",
    "model_extras = {\"node_ids\": jnp.array([0, 1, 2, 3]), \"edge_mask\": posterior_faithfull}\n",
    "sampler_ = solver.get_sampler(time_grid=T, condition_mask=condition_mask, method='dopri5', step_size=step_size, return_intermediates=False, model_extras=model_extras)\n",
    "samples = sampler_(x_init)  # sample from the model\n",
    "\n",
    "# samples = dataset.unnormalize(samples)"
   ]
  },
  {
   "cell_type": "code",
   "execution_count": 72,
   "metadata": {},
   "outputs": [
    {
     "data": {
      "image/png": "[encoded data removed]",
      "text/plain": [
       "<Figure size 640x480 with 1 Axes>"
      ]
     },
     "metadata": {},
     "output_type": "display_data"
    }
   ],
   "source": [
    "posterior_samples = samples[:,0:2]\n",
    "\n",
    "plt.hist2d(posterior_samples[:,0], posterior_samples[:,1], bins=(200,200), range=[(-1, 1), (-1, 1)], density=True)\n",
    "# same ratio on axis \n",
    "# plt.scatter(reference_samples[:,0], reference_samples[:,1], s=0.1, color='red', alpha=0.1, marker='x')\n",
    "plt.gca().set_aspect('equal', adjustable='box')\n",
    "plt.xlim((-1,1))\n",
    "plt.ylim((-1,1))\n",
    "plt.show()"
   ]
  },
  {
   "attachments": {
    "image.png": {
     "image/png": "[encoded data removed]"
    }
   },
   "cell_type": "markdown",
   "metadata": {},
   "source": [
    "![image.png](attachment:image.png)"
   ]
  },
  {
   "cell_type": "markdown",
   "metadata": {},
   "source": [
    "# evaluate the posterior"
   ]
  },
  {
   "cell_type": "code",
   "execution_count": 93,
   "metadata": {},
   "outputs": [],
   "source": [
    "grid_size = 200\n",
    "x_1 = jnp.meshgrid(jnp.linspace(-1, 1, grid_size), jnp.linspace(-1, 1, grid_size))\n",
    "x_1 = jnp.stack([x_1[0].flatten(), x_1[1].flatten()], axis=1)"
   ]
  },
  {
   "cell_type": "code",
   "execution_count": 94,
   "metadata": {},
   "outputs": [
    {
     "data": {
      "text/plain": [
       "(40000, 2)"
      ]
     },
     "execution_count": 94,
     "metadata": {},
     "output_type": "execute_result"
    }
   ],
   "source": [
    "x_1.shape"
   ]
  },
  {
   "cell_type": "code",
   "execution_count": 95,
   "metadata": {},
   "outputs": [
    {
     "data": {
      "text/plain": [
       "Array(0.16234657, dtype=float32)"
      ]
     },
     "execution_count": 95,
     "metadata": {},
     "output_type": "execute_result"
    }
   ],
   "source": [
    "observation[0,2]"
   ]
  },
  {
   "cell_type": "code",
   "execution_count": 96,
   "metadata": {},
   "outputs": [],
   "source": [
    "# get the logprob\n",
    "logp_sampler = solver.get_unnormalized_logprob(condition_mask=condition_mask, time_grid=[1.0,0.0],method='dopri5', step_size=step_size, log_p0=p0_dist_model.log_prob, model_extras=model_extras)\n",
    "# create an y_init which has theta on the first position and x1,x2 on the second and third position\n",
    "y_init = jnp.zeros((x_1.shape[0], 4))\n",
    "y_init = y_init.at[:,0].set(x_1[:,0])\n",
    "y_init = y_init.at[:,1].set(x_1[:,1])\n",
    "y_init = y_init.at[:,2].set(observation[0,0])\n",
    "y_init = y_init.at[:,3].set(observation[0,1])\n",
    "\n",
    "_ , exact_log_p = logp_sampler(y_init)\n",
    "p = jnp.exp(exact_log_p)[-1]\n",
    "# # # normalize the distribution\n",
    "# n = jax.scipy.integrate.trapezoid(p, theta)\n",
    "# p = p/n\n"
   ]
  },
  {
   "cell_type": "code",
   "execution_count": 97,
   "metadata": {},
   "outputs": [
    {
     "data": {
      "image/png": "[encoded data removed]",
      "text/plain": [
       "<Figure size 640x480 with 2 Axes>"
      ]
     },
     "metadata": {},
     "output_type": "display_data"
    }
   ],
   "source": [
    "p_grid = p.reshape((grid_size, grid_size))\n",
    "plt.imshow(p_grid, origin='lower', aspect='auto', extent=(-1, 1, -1, 1), cmap='viridis', vmin=0, vmax=10)\n",
    "plt.scatter(posterior_samples[:100,0], posterior_samples[:100,1], alpha=1, color='red', s=2)\n",
    "plt.xlim((-1,1))\n",
    "plt.ylim((-1,1))\n",
    "plt.colorbar()\n",
    "plt.show()"
   ]
  },
  {
   "cell_type": "markdown",
   "metadata": {},
   "source": [
    "# generation with guidance"
   ]
  },
  {
   "cell_type": "code",
   "execution_count": 98,
   "metadata": {},
   "outputs": [],
   "source": [
    "cfg_scale = 0.80\n",
    "\n",
    "rng = jax.random.PRNGKey(45)\n",
    "T = jnp.linspace(0,1,10)  # sample times\n",
    "step_size = 0.001\n",
    "\n",
    "nsamples = 100_000 #reference_samples.shape[0]\n",
    "\n",
    "# x_init = jnp.zeros((nsamples, dim_joint))  # initial conditions\n",
    "key1,key2 = jax.random.split(rng, 2)\n",
    "x_init = p0_dist_model.sample(key1, (nsamples,))\n",
    "# noise = jnp.zeros((batch_size, dim_x)) # n, T_max, 1\n",
    "# noise = jax.random.normal(key2, (batch_size, dim_x)) # n, T_max, 1\n",
    "# x_init = jnp.concatenate([samples_prior, noise], axis=-1)\n",
    "\n",
    "\n",
    "# x_init = jax.random.normal(rng, (nsamples, dim_joint))  # initial conditions\n",
    "condition_mask = jnp.array([0,0,1,1], dtype=jnp.bool_)  # condition on the data, obtain the 2d posterior\n",
    "\n",
    "\n",
    "x_init = x_init.at[:, 2].set(observation[0,0]) # set the conditioned values\n",
    "x_init = x_init.at[:, 3].set(observation[0,1]) # set the conditioned values\n",
    "\n",
    "\n",
    "solver = ODESolver(velocity_model=vf_model)  # create an ODESolver class\n",
    "# model_extras = {\"node_ids\": jnp.array([0, 1, 2, 3]), \"edge_mask\": undirected_edge_mask}\n",
    "model_extras = {\"node_ids\": jnp.array([0, 1, 2, 3]), \"edge_mask\": posterior_faithfull}\n",
    "sampler_ = solver.get_sampler(time_grid=T, cfg_scale=cfg_scale, condition_mask=condition_mask, method='dopri5', step_size=step_size, return_intermediates=False, model_extras=model_extras)\n",
    "samples = sampler_(x_init)  # sample from the model\n",
    "\n",
    "# samples = dataset.unnormalize(samples)"
   ]
  },
  {
   "cell_type": "code",
   "execution_count": 99,
   "metadata": {},
   "outputs": [
    {
     "data": {
      "image/png": "[encoded data removed]",
      "text/plain": [
       "<Figure size 640x480 with 1 Axes>"
      ]
     },
     "metadata": {},
     "output_type": "display_data"
    }
   ],
   "source": [
    "posterior_samples_cfg = samples[:,0:2]\n",
    "\n",
    "plt.hist2d(posterior_samples_cfg[:,0], posterior_samples_cfg[:,1], bins=(200,200), range=[(-1, 1), (-1, 1)], density=True)\n",
    "# same ratio on axis \n",
    "# plt.scatter(reference_samples[:,0], reference_samples[:,1], s=0.1, color='red', alpha=0.1, marker='x')\n",
    "plt.gca().set_aspect('equal', adjustable='box')\n",
    "plt.xlim((-1,1))\n",
    "plt.ylim((-1,1))\n",
    "plt.show()"
   ]
  },
  {
   "cell_type": "markdown",
   "metadata": {},
   "source": [
    "# C2ST test"
   ]
  },
  {
   "cell_type": "code",
   "execution_count": 100,
   "metadata": {},
   "outputs": [],
   "source": [
    "# convert posterior samples to a torch array\n",
    "import torch\n",
    "posterior_samples_cfg_torch = torch.tensor(np.array(posterior_samples_cfg))\n",
    "posterior_samples_torch = torch.tensor(np.array(posterior_samples))"
   ]
  },
  {
   "cell_type": "code",
   "execution_count": 101,
   "metadata": {},
   "outputs": [],
   "source": [
    "c2st_accuracy_cfg = c2st(reference_samples, posterior_samples_cfg_torch)\n",
    "c2st_accuracy = c2st(reference_samples, posterior_samples_torch)"
   ]
  },
  {
   "cell_type": "code",
   "execution_count": 102,
   "metadata": {},
   "outputs": [
    {
     "data": {
      "text/plain": [
       "(tensor([0.9337]), tensor([0.9192]))"
      ]
     },
     "execution_count": 102,
     "metadata": {},
     "output_type": "execute_result"
    }
   ],
   "source": [
    "c2st_accuracy_cfg, c2st_accuracy"
   ]
  },
  {
   "cell_type": "code",
   "execution_count": null,
   "metadata": {},
   "outputs": [],
   "source": []
  }
 ],
 "metadata": {
  "kernelspec": {
   "display_name": "cfm",
   "language": "python",
   "name": "python3"
  },
  "language_info": {
   "codemirror_mode": {
    "name": "ipython",
    "version": 3
   },
   "file_extension": ".py",
   "mimetype": "text/x-python",
   "name": "python",
   "nbconvert_exporter": "python",
   "pygments_lexer": "ipython3",
   "version": "3.12.10"
  }
 },
 "nbformat": 4,
 "nbformat_minor": 2
}
